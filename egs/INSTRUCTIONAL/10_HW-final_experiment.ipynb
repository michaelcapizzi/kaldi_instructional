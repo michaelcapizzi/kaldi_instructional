{
 "cells": [
  {
   "cell_type": "markdown",
   "metadata": {},
   "source": [
    "# 10.HW: Creating your own experiment"
   ]
  },
  {
   "cell_type": "markdown",
   "metadata": {},
   "source": [
    "## Task\n",
    "\n",
    "Create your own experiment that compares `WER`s.  In all cases, you **must** keep the test data the same (for comparison purposes to what we've already trained).\n",
    "\n",
    "### Metrics for comparison\n",
    "\n",
    "We will want to compare **both** performance (`WER`/`SER`) **and** speed (`runtime`).  \n",
    "\n",
    "### Suggestions\n",
    "\n",
    "You have a range of options (listed below from \"least involved\" to \"most involved\"):\n",
    "\n",
    "1. use existing acoustic and language models and just adjust *decoding* hyperparameters for `run_test.sh`: \n",
    "    (1) `lmwt`, (2) `beam`, (3) `max_active`\n",
    "    - requires running: <br>\n",
    "        a. `run_test.sh`\n",
    "2. *re-build* the acoustic model by *rerunning* `run_train_phones.sh` with **new** hyperparameter settings:\n",
    "    (1) `num_gaussians`, (2) `num_leaves`\n",
    "    - requires running: <br>\n",
    "        a. `run_train_phones.sh` <br>\n",
    "        b. `run_compile_graph.sh` <br>\n",
    "        c. `run_test.sh` <br>\n",
    "3. *re-build* the `MFCC` features by *rerunning* `run_feature_extraction.sh` with a new `mfcc_config`.\n",
    "    - requires running: <br>\n",
    "        a. `run_feature_extraction.sh` <br>\n",
    "        b. `run_train_phones.sh` <br>\n",
    "        c. `run_compile_graph.sh` <br>\n",
    "        d. `run_test.sh` <br>\n",
    "4. use a *different* language model; you have three other models to choose from in `raw_data`\n",
    "    - requires running: <br>\n",
    "        a. `run_prepare_data.sh` <br>\n",
    "        b. `run_feature_extraction.sh` <br>\n",
    "        c. `run_train_phones.sh` <br>\n",
    "        d. `run_compile_graph.sh` <br>\n",
    "        e. `run_test.sh` <br>\n",
    "5. change the training data; you have other subsets to choose from in `raw_data/LibriSpeech`.\n",
    "    - requires running: <br>\n",
    "        a. `run_prepare_data.sh` <br>\n",
    "        b. `run_feature_extraction.sh` <br>\n",
    "        c. `run_train_phones.sh` <br>\n",
    "        d. `run_compile_graph.sh` <br>\n",
    "        e. `run_test.sh` <br>\n",
    "6. build a pipeline using your own data!"
   ]
  },
  {
   "cell_type": "markdown",
   "metadata": {},
   "source": [
    "## Procedure\n",
    "\n",
    "  1. Copy this notebook and rename it `10_HW_[your-last-name]-final_experiment.ipynb`.  This is **vital** so as not to create `git conflict`s!\n",
    "  2. Remove all the appropriate directories for steps you are redoing (either `rm -r` or `cp * /vol_c`)\n",
    "  3. Run the required notebooks with the appropriate configurations.\n",
    "  4. Review your results below\n",
    "  5. Save your finished `notebook` as `html`: `File` - `Download As` - `HTML`.\n",
    "  6. Link your `html` in http://uakaldiinstructional.mybb.us/viewtopic.php?id=7 **BEFORE** our next Friday meeting."
   ]
  },
  {
   "cell_type": "markdown",
   "metadata": {},
   "source": [
    "## Experiment: ???\n",
    "### **worst** `WER`: ???\n",
    "### `runtime`: ???\n",
    "\n",
    "**Note**: This is a `shell` kernel, since it will be easier to show files with `cat`/`head`.\n",
    "\n",
    "In your analysis below, be sure to include:\n",
    "\n",
    "1. what changes you made to the pipeline (`cat kaldi_config_args.json` for each step)\n",
    "2. what results you saw (`cat exp/experiments/*/results.txt` **and** `cat exp/experiments/*/decode_test_dir/runtime`)\n",
    "3. Any other files you may need to use for your comparison (`cat exp/experiments/*/decode_test_dir/log/analyze*` and/or `cat exp/experiments/*/predicted_transcripts_10.txt`)"
   ]
  }
 ],
 "metadata": {
  "kernelspec": {
   "display_name": "Bash",
   "language": "bash",
   "name": "bash"
  },
  "language_info": {
   "codemirror_mode": "shell",
   "file_extension": ".sh",
   "mimetype": "text/x-sh",
   "name": "bash"
  }
 },
 "nbformat": 4,
 "nbformat_minor": 2
}
