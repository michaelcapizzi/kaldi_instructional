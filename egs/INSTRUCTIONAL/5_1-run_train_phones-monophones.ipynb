{
 "cells": [
  {
   "cell_type": "markdown",
   "metadata": {},
   "source": [
    "# 5.1: `run_train_phones.sh` - Building the acoustic model (`monophones`)\n",
    "\n",
    "We will begin to build the acoustic model of our ASR pipeline.  This model will be responsible for predicting the phone that is represented by a portion of raw audio.\n",
    "\n",
    "A *very* brief overview of acoustic modeling can be found [here](https://www.eleanorchodroff.com/tutorial/kaldi/kaldi-concept.html)."
   ]
  },
  {
   "cell_type": "markdown",
   "metadata": {},
   "source": [
    "In this notebook, we will simply build the initial layer of the acoustic model, a `monophone` representation of the features."
   ]
  },
  {
   "cell_type": "markdown",
   "metadata": {},
   "source": [
    "## Setting `kaldi_config.json`\n",
    "\n",
    "Edit the `run_train_phones` section of `kaldi_config.json` to use the following arguments:\n",
    " - `training_type`=`mono`      # since we are only doing first layer\n",
    " - `num_gaussians`=`10000`     # number of `gaussian`s used to build the model\n",
    " - `data_reduction_rate`=`10`  # monophone training can be done on subset of data, in this case 1/10th, for speed\n",
    " - `non_vanilla_train_mono_hyperparameters`=`null`\n",
    " - `non_vanilla_mono_align_hyperparameters`=`null`\n",
    " \n",
    "It is not necessary to worry about the other hyperparameters for this layer of training."
   ]
  },
  {
   "cell_type": "code",
   "execution_count": null,
   "metadata": {},
   "outputs": [],
   "source": [
    "head -n30 run_train_phones.sh"
   ]
  },
  {
   "cell_type": "markdown",
   "metadata": {},
   "source": [
    "## Running `run_train_phones.sh`"
   ]
  },
  {
   "cell_type": "markdown",
   "metadata": {},
   "source": [
    "Run `run_train_phones.sh`.  Carefully read through the output to ensure that there were no errors."
   ]
  },
  {
   "cell_type": "code",
   "execution_count": null,
   "metadata": {},
   "outputs": [],
   "source": [
    "./run_train_phones.sh kaldi_config.json"
   ]
  }
 ],
 "metadata": {
  "kernelspec": {
   "display_name": "Bash",
   "language": "bash",
   "name": "bash"
  },
  "language_info": {
   "codemirror_mode": "shell",
   "file_extension": ".sh",
   "mimetype": "text/x-sh",
   "name": "bash"
  }
 },
 "nbformat": 4,
 "nbformat_minor": 1
}
