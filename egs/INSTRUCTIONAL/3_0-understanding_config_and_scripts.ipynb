{
 "cells": [
  {
   "cell_type": "markdown",
   "metadata": {},
   "source": [
    "# 3.0: Understanding the `config` file, the `run_*` scripts, & support scripts"
   ]
  },
  {
   "cell_type": "markdown",
   "metadata": {},
   "source": [
    "The pipeline is set up in **five** steps:\n",
    "\n",
    " - `run_prepare_data`\n",
    " - `run_feature_extraction`\n",
    " - `run_train_phones`\n",
    " - `run_compile_graph`\n",
    " - `run_test`\n",
    "\n",
    "and the arguments to each of those steps are handled by a `config` file called `kaldi_config.json`.\n",
    "\n",
    "In the first step, the `config` file will supply files to the script, and in later steps most of the arguments passed are hyperparameters."
   ]
  },
  {
   "cell_type": "markdown",
   "metadata": {},
   "source": [
    "## `kaldi_config.json`"
   ]
  },
  {
   "cell_type": "code",
   "execution_count": null,
   "metadata": {},
   "outputs": [],
   "source": [
    "cat kaldi_config.json | grep -A15 run_prepare_data\n",
    "echo ...\n",
    "cat kaldi_config.json | grep -A15 run_train_phones"
   ]
  },
  {
   "cell_type": "markdown",
   "metadata": {},
   "source": [
    "**Note:** `path`s must **always** be `absolute` (*e.g.* the **full** path)"
   ]
  },
  {
   "cell_type": "markdown",
   "metadata": {},
   "source": [
    "### `integer` v. `string` values\n",
    "\n",
    "This `json` is parsed by the `python` module (https://docs.python.org/2/library/json.html), and so `string` values must be in `\"\"` while `integer` values should **not** be in `\"\"`."
   ]
  },
  {
   "cell_type": "markdown",
   "metadata": {},
   "source": [
    "### `boolean` values\n",
    "\n",
    "`boolean` values need to be in the form expected by `shell` which are **lowercased** forms of `true` and `false`.\n",
    "\n",
    "**Note:** There are **no** `\"\"` used."
   ]
  },
  {
   "cell_type": "markdown",
   "metadata": {},
   "source": [
    "### `null` values\n",
    "\n",
    "If an argument is not needed for a particular configuration, `null` can be used.\n",
    "\n",
    "**Note:** There are **no** `\"\"` used."
   ]
  },
  {
   "cell_type": "markdown",
   "metadata": {},
   "source": [
    "### `non-vanilla hyperparameters`\n",
    "\n",
    "Most scripts have at least one option called `non-vanilla hyperparameters`.  \n",
    "\n",
    "`kaldi` has its own internal argument-parsing system where any variable defined in a `shell` script can be set from the command line with `--[variable_name] [value]`.  Parameterizing every single hyperparameter for each pipeline step would make for an unmanageable `config` file, so I opted **not** to include some.  But **any** variable **can still be set** through this `config` `key`:\n",
    "\n",
    "```\n",
    "\"non_vanilla_train_deltas_hyperparameters\": {\n",
    "    \"flag\": \"-s\",\n",
    "    \"value\": \"--num_iters 5 --beam 20\"\n",
    "...\n",
    "```"
   ]
  },
  {
   "cell_type": "markdown",
   "metadata": {},
   "source": [
    "## `run_*.sh`"
   ]
  },
  {
   "cell_type": "markdown",
   "metadata": {},
   "source": [
    "The beginning of each `run_*` script does the following:\n",
    "    - summarizes the purpose of the script\n",
    "    - briefly explains the arguments it takes\n",
    "    - identifies the outputs of the script (usually in the form of new directories and files)"
   ]
  },
  {
   "cell_type": "code",
   "execution_count": null,
   "metadata": {},
   "outputs": [],
   "source": [
    "head -n30 run_prepare_data.sh"
   ]
  },
  {
   "cell_type": "markdown",
   "metadata": {},
   "source": [
    "Each `run_*.sh` script takes one argument: a `kaldi` `config` file.  The first thing done in the script is to set the necessary arguments from the appropriate section of the `config` file. "
   ]
  },
  {
   "cell_type": "markdown",
   "metadata": {},
   "source": [
    "## `kaldi` script structure\n",
    "\n",
    "The `run_*.sh` scripts will all wrap individual `shell` scripts that can be found in the other directories of `egs/INSTRUCTIONAL`. Those directories are explained below.\n",
    "\n",
    " - `utils`: utility scripts\n",
    " - `local`: scripts particular to the corpus (*e.g.* `eg`) being used\n",
    "   - **Note:** in the `INSTRUCTIONAL` `eg`, this distinction between `utils` and `local` is a muddy one since the `INSTRUCTIONAL` `eg` is designed to be corpus/data-agnostic\n",
    " - `steps`: scripts focused particularly on steps of the `ASR` pipeline"
   ]
  },
  {
   "cell_type": "markdown",
   "metadata": {},
   "source": [
    "## `path.sh` and `cmd.sh`"
   ]
  },
  {
   "cell_type": "markdown",
   "metadata": {},
   "source": [
    "You will also see two `shell` scripts called `path.sh` and `cmd.sh`"
   ]
  },
  {
   "cell_type": "markdown",
   "metadata": {},
   "source": [
    "`path.sh` is a simple script that contains the path to the `kaldi` `src` directory (where the `C++` code lives).  When this file is `source`d (`. ./path.sh`) at the beginning of a `shell` script, it allows us to just call the name of the `C++` script we want to use **without** having to worry about `absolute` paths."
   ]
  },
  {
   "cell_type": "markdown",
   "metadata": {},
   "source": [
    "`kaldi` allows for different types of parallelization (see more [here](http://kaldi-asr.org/doc/queue.html)).  In our case we will use the simplest form (for one machine) called `run.pl`.  `cmd.sh` houses the default arguments for parallelization.  And in our case it's very simple:"
   ]
  },
  {
   "cell_type": "code",
   "execution_count": null,
   "metadata": {},
   "outputs": [],
   "source": [
    "cat cmd.sh"
   ]
  },
  {
   "cell_type": "markdown",
   "metadata": {},
   "source": [
    "`10G` should be a safe setting for `memory`, but you can always change the default value in this script to fit your needs."
   ]
  }
 ],
 "metadata": {
  "kernelspec": {
   "display_name": "Bash",
   "language": "bash",
   "name": "bash"
  },
  "language_info": {
   "codemirror_mode": "shell",
   "file_extension": ".sh",
   "mimetype": "text/x-sh",
   "name": "bash"
  }
 },
 "nbformat": 4,
 "nbformat_minor": 2
}
