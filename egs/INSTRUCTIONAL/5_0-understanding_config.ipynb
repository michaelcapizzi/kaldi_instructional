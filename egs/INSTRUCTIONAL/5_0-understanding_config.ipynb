{
 "cells": [
  {
   "cell_type": "markdown",
   "metadata": {},
   "source": [
    "# 5.0: Understanding the `config` file for `run_train_phones.sh`"
   ]
  },
  {
   "cell_type": "markdown",
   "metadata": {},
   "source": [
    "The script `run_train_phones.sh` is a wrapper script that will run all the scripts required to build the various layers of the acoustic model (each of which will be explained in subsequent notebooks)"
   ]
  },
  {
   "cell_type": "code",
   "execution_count": null,
   "metadata": {},
   "outputs": [],
   "source": [
    "cat kaldi_config.json | grep -A55 run_train_phones"
   ]
  },
  {
   "cell_type": "markdown",
   "metadata": {},
   "source": [
    "### `training_type`\n",
    "\n",
    "This code base currently has **three** layers that can be built to construct the acoustic model, each defined by a particular `training_type` and each extending those before:\n",
    "\n",
    " - layer 1: `training_type`=`monophones`\n",
    " - layer 2: `training_type`=`triphones`\n",
    " - layer 3: `training_type`=`lda_mllt`\n",
    " \n",
    "These will all be explained in later notebooks, but what's important to understand at this point is that when selecting a `training_type`, **all** previous layers will also be run.\n",
    "\n",
    "For example, selecting `training_type`=`lda_mllt` will build an acoustic model with `lda_mllt` built on top of `triphones`, which were built on top of `monophones`.\n",
    "\n",
    "The code **also** checks to see if previous layers have already been built before re-building them.  So if when selecting `training_type`=`lda_mllt`, you had **already** run `run_train_phones.sh` with `training_type`=`triphones`, then those previous layers will be re-used."
   ]
  },
  {
   "cell_type": "markdown",
   "metadata": {},
   "source": [
    "### `num_gaussians` and `num_leaves`"
   ]
  },
  {
   "cell_type": "markdown",
   "metadata": {},
   "source": [
    "These two hyperparameters are important in the quality of the acoustic model and will be discussed later in more detail, but what's important here is to know that when setting these hyperparameters, they are set for **early** layers of the model and **increased** for each additional layer.\n",
    "\n",
    "`num_gaussians` is first used in `training_type`=`monophones` and increased in later layers.\n",
    "`num_leaves` is first used in `training_type`=`triphones` and increased in later layers."
   ]
  },
  {
   "cell_type": "markdown",
   "metadata": {},
   "source": [
    "### `non-vanilla hyperparameters`\n",
    "\n",
    "As explained in an earlier week, not every single hyperparameter is included in `kaldi_config.json`.  Each step of `run_train_phones.sh` has its own argument in `kaldi_config.json` where further hyperparamters can be set:\n",
    "\n",
    "```\n",
    "\"non_vanilla_train_deltas_hyperparameters\": {\n",
    "    \"flag\": \"-s\",\n",
    "    \"value\": \"--num_iters 5 --beam 20\"\n",
    "...\n",
    "```"
   ]
  }
 ],
 "metadata": {
  "kernelspec": {
   "display_name": "Bash",
   "language": "bash",
   "name": "bash"
  },
  "language_info": {
   "codemirror_mode": "shell",
   "file_extension": ".sh",
   "mimetype": "text/x-sh",
   "name": "bash"
  }
 },
 "nbformat": 4,
 "nbformat_minor": 2
}
