{
 "cells": [
  {
   "cell_type": "markdown",
   "metadata": {},
   "source": [
    "# 8.3: `run_compile_graph.sh` - Building the `HCLG` graph for `triphones_lda`"
   ]
  },
  {
   "cell_type": "markdown",
   "metadata": {},
   "source": [
    "## Setting `kaldi_config.json`"
   ]
  },
  {
   "cell_type": "markdown",
   "metadata": {},
   "source": [
    "Edit the `run_compile_graph` section of `kaldi_config.json` to contain the proper arguments for `run_compile_graph.sh` using the following argument for `model_dir`:\n",
    " - `model_dir`=`exp/triphones_lda`\n",
    " \n",
    "This will build `HCLG` from the `triphone_lda` model."
   ]
  },
  {
   "cell_type": "code",
   "execution_count": null,
   "metadata": {},
   "outputs": [],
   "source": [
    "head -n27 run_compile_graph.sh"
   ]
  },
  {
   "cell_type": "markdown",
   "metadata": {},
   "source": [
    "## Running `run_compile_graph.sh`"
   ]
  },
  {
   "cell_type": "markdown",
   "metadata": {},
   "source": [
    "First we need to make sure that a `temp` directory stored in `data` does *not* exist from previous runs of `run_compile_graph.sh`"
   ]
  },
  {
   "cell_type": "code",
   "execution_count": null,
   "metadata": {},
   "outputs": [],
   "source": [
    "rm -r data/lang_test_tg/tmp"
   ]
  },
  {
   "cell_type": "markdown",
   "metadata": {},
   "source": [
    "We also need to make sure any leftover graph files from previous runs of this notebook have been removed."
   ]
  },
  {
   "cell_type": "code",
   "execution_count": null,
   "metadata": {},
   "outputs": [],
   "source": [
    "rm -r exp/monophones/triphones_lda/graph"
   ]
  },
  {
   "cell_type": "markdown",
   "metadata": {},
   "source": [
    "**Note:** If you see the error `rm: cannot remove...` in either of the two cells above, that's OK.  It just means the directory doesn't exist...which is what we want anyway."
   ]
  },
  {
   "cell_type": "markdown",
   "metadata": {},
   "source": [
    "Run `run_compile_graph.sh`.  Carefully read through the output to ensure that there were no errors.\n",
    "\n",
    "**Note**: This is a step that is **NOT** able to be parallelized, and so as a result can take a while.  Expect this step to take at least 15 minutes."
   ]
  },
  {
   "cell_type": "code",
   "execution_count": null,
   "metadata": {},
   "outputs": [],
   "source": [
    "./run_compile_graph.sh kaldi_config.json"
   ]
  }
 ],
 "metadata": {
  "kernelspec": {
   "display_name": "Bash",
   "language": "bash",
   "name": "bash"
  },
  "language_info": {
   "codemirror_mode": "shell",
   "file_extension": ".sh",
   "mimetype": "text/x-sh",
   "name": "bash"
  }
 },
 "nbformat": 4,
 "nbformat_minor": 2
}
