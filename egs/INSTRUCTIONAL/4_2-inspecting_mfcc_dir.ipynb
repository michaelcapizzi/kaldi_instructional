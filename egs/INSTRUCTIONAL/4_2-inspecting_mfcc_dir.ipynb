{
 "cells": [
  {
   "cell_type": "markdown",
   "metadata": {},
   "source": [
    "# 4.2: Inspecting the `mfcc` dir"
   ]
  },
  {
   "cell_type": "markdown",
   "metadata": {},
   "source": [
    "`run_feature_extraction.sh` will generate two new directories: `exp` and `mfcc`.  We will inspect their contents below."
   ]
  },
  {
   "cell_type": "code",
   "execution_count": null,
   "metadata": {},
   "outputs": [],
   "source": [
    "ls exp"
   ]
  },
  {
   "cell_type": "code",
   "execution_count": null,
   "metadata": {},
   "outputs": [],
   "source": [
    "ls mfcc"
   ]
  },
  {
   "cell_type": "markdown",
   "metadata": {},
   "source": [
    "## `exp/make_mfcc`\n",
    "\n",
    "This directory contains the `log` files pertaining to the making of the `mfcc`s.\n",
    "\n",
    "**Note:** `exp` stands for `exp`eriment, and so the next steps of our `ASR` pipeline will also be outputted into this `directory`."
   ]
  },
  {
   "cell_type": "code",
   "execution_count": null,
   "metadata": {},
   "outputs": [],
   "source": [
    "ls exp/make_mfcc"
   ]
  },
  {
   "cell_type": "code",
   "execution_count": null,
   "metadata": {},
   "outputs": [],
   "source": [
    "ls exp/make_mfcc/train_dir"
   ]
  },
  {
   "cell_type": "markdown",
   "metadata": {},
   "source": [
    "**Note:** Whenever possible, we will take advantage of parallelization within `kaldi`.  The resulting outputs of parallelized steps will be of the form `file_name.JOB.log` where `JOB` will be integers from `1` to the number of parallelized threads.  "
   ]
  },
  {
   "cell_type": "code",
   "execution_count": null,
   "metadata": {},
   "outputs": [],
   "source": [
    "cat exp/make_mfcc/train_dir/make_mfcc_train_dir.1.log"
   ]
  },
  {
   "cell_type": "markdown",
   "metadata": {},
   "source": [
    "You will notice that these `log`s don't contain much useful information *other than* which audio files were processed in which parallel thread."
   ]
  },
  {
   "cell_type": "markdown",
   "metadata": {},
   "source": [
    "## `mfcc`\n",
    "\n",
    "This directory contains the actual extracted features for both the training and testing subsets.  "
   ]
  },
  {
   "cell_type": "code",
   "execution_count": null,
   "metadata": {},
   "outputs": [],
   "source": [
    "ls mfcc"
   ]
  },
  {
   "cell_type": "markdown",
   "metadata": {},
   "source": [
    "### `mfcc/kaldi_config_args.json` \n",
    "\n",
    "This is a copy of the arguments used in `kaldi_config.json` when running `run_feature_extraction.sh`.  In this case, the most important thing to pay attention to is which `mfcc_config` was used."
   ]
  },
  {
   "cell_type": "code",
   "execution_count": null,
   "metadata": {},
   "outputs": [],
   "source": [
    "cat mfcc/kaldi_config_args.json"
   ]
  },
  {
   "cell_type": "markdown",
   "metadata": {},
   "source": [
    "### `.ark` and `.scp` files\n",
    "\n",
    "`kaldi` has two of its own file types: `ark` and `scp`.  \n",
    "\n",
    "In most cases, there will be a different `ark` or `scp` file for each `thread` of parallelization used.  Above (in `kaldi_config_args.json`), you can see the `num_processors` value that was used.  There should be this many `ark` and `scp` files, each labeled with the `integer` corresponding to the thread used."
   ]
  },
  {
   "cell_type": "code",
   "execution_count": null,
   "metadata": {},
   "outputs": [],
   "source": [
    "ls mfcc | grep raw_mfcc_train_dir.*.scp"
   ]
  },
  {
   "cell_type": "markdown",
   "metadata": {},
   "source": [
    "Much more detail about these file types can be found [here](http://kaldi-asr.org/doc/io.html), but for now we'll simplify it this way:\n",
    "\n",
    "an `ark` file (short for `archive`) is a `binary` file containing `C++ objects`, often for more than one audio sample, utterance, etc.  An `scp` file acts as a mapping of items to their \"location\" in the `kaldi` `archive`s."
   ]
  },
  {
   "cell_type": "code",
   "execution_count": null,
   "metadata": {},
   "outputs": [],
   "source": [
    "head mfcc/raw_mfcc_train_dir.1.scp"
   ]
  },
  {
   "cell_type": "markdown",
   "metadata": {},
   "source": [
    "The actual features are contained in the `ark` files.  In the `scp` files you can see a list of utterances and (1) which `ark` file they are in, along with (2) which \"line\" of that `ark` file (the `:\\d+` portion of the line) represents that utterance."
   ]
  },
  {
   "cell_type": "markdown",
   "metadata": {},
   "source": [
    "Often there are `C++` functions that will allow us to inspect `ark` files in more detail.  In the case of `MFCC`s, we'll actually use some third-party `python` code to explore the `mfcc` features in the next notebook."
   ]
  },
  {
   "cell_type": "code",
   "execution_count": null,
   "metadata": {},
   "outputs": [],
   "source": [
    "ls mfcc  | grep cmvn"
   ]
  },
  {
   "cell_type": "markdown",
   "metadata": {},
   "source": [
    "You'll notice some files called `cmvn_*`.  `cmvn` stands for `cepstral mean and variance normalization`, and it is simply a process by which we attempt to normalize all of the samples.  These files contain the `values` required to normalize our data.  We won't spend much time with these as the normalization step is done \"automatically\" in later steps of our ASR pipeline."
   ]
  }
 ],
 "metadata": {
  "kernelspec": {
   "display_name": "Bash",
   "language": "bash",
   "name": "bash"
  },
  "language_info": {
   "codemirror_mode": "shell",
   "file_extension": ".sh",
   "mimetype": "text/x-sh",
   "name": "bash"
  }
 },
 "nbformat": 4,
 "nbformat_minor": 2
}
