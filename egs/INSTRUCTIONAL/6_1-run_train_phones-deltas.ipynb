{
 "cells": [
  {
   "cell_type": "markdown",
   "metadata": {},
   "source": [
    "# 6.1: `run_train_phones.sh` - Building the acoustic model (`triphones`)\n",
    "\n",
    "This is the second layer of our acoustic model, a `triphone` model.\n",
    "\n",
    "**Note:** You **MUST** have run `5_1-run_train_phones-monophones.ipynb` **BEFORE** running this notebook."
   ]
  },
  {
   "cell_type": "markdown",
   "metadata": {},
   "source": [
    "## Setting `kaldi_config.json`\n",
    "\n",
    "Edit the `run_train_phones` section of `kaldi_config.json` to use the following arguments:\n",
    " - `training_type`=`deltas`    # will build a triphone model on top of our existing monophone model\n",
    " - `num_gaussians`=`10000`     # number of `gaussian`s used to build the model\n",
    " - `num_leaves`=`5000`         # number of leaves in decision tree\n",
    " - `non_vanilla_train_deltas_hyperparameters`=`null`\n",
    " - `non_vanilla_deltas_align_hyperparameters`=`null`\n",
    " \n",
    "It is not necessary to worry about the other hyperparameters for this layer of training."
   ]
  },
  {
   "cell_type": "code",
   "execution_count": null,
   "metadata": {},
   "outputs": [],
   "source": [
    "head -n30 run_train_phones.sh"
   ]
  },
  {
   "cell_type": "markdown",
   "metadata": {},
   "source": [
    "## Running `run_train_phones.sh`"
   ]
  },
  {
   "cell_type": "markdown",
   "metadata": {},
   "source": [
    "Run `run_train_phones.sh`.  Carefully read through the output to ensure that there were no errors."
   ]
  },
  {
   "cell_type": "code",
   "execution_count": null,
   "metadata": {},
   "outputs": [],
   "source": [
    "./run_train_phones.sh kaldi_config.json"
   ]
  },
  {
   "cell_type": "markdown",
   "metadata": {},
   "source": [
    "You may have noticed this message in the output above:\n",
    "```\n",
    "WARNING (gmm-init-model[5.2.191~1-48be1]:InitAmGmm():gmm-init-model.cc:55) Tree has pdf-id 50 with no stats; corresponding phone list: 202 203 204 205 \n",
    "** The warnings above about 'no stats' generally mean you have phones **\n",
    "** (or groups of phones) in your phone set that had no corresponding data. **\n",
    "** You should probably figure out whether something went wrong, **\n",
    "** or whether your data just doesn't happen to have examples of those **\n",
    "** phones. **\n",
    "```\n",
    "\n",
    "We can see which phones these ids refer to."
   ]
  },
  {
   "cell_type": "code",
   "execution_count": null,
   "metadata": {},
   "outputs": [],
   "source": [
    "cat data/lang/phones.txt | grep -E \"20[2345]\""
   ]
  },
  {
   "cell_type": "markdown",
   "metadata": {},
   "source": [
    "You'll notice that our phones list has *three* different forms of the `OY` phone."
   ]
  },
  {
   "cell_type": "code",
   "execution_count": null,
   "metadata": {},
   "outputs": [],
   "source": [
    "cat data/lang/phones.txt | grep -E \"OY.*\""
   ]
  },
  {
   "cell_type": "markdown",
   "metadata": {},
   "source": [
    "This warning arises because none of the audio files provided in the training data had a usage of `OY0`.  And it's not a problem, except we shouldn't expect our model to ever predict this phone then."
   ]
  }
 ],
 "metadata": {
  "kernelspec": {
   "display_name": "Bash",
   "language": "bash",
   "name": "bash"
  },
  "language_info": {
   "codemirror_mode": "shell",
   "file_extension": ".sh",
   "mimetype": "text/x-sh",
   "name": "bash"
  }
 },
 "nbformat": 4,
 "nbformat_minor": 2
}
