{
 "cells": [
  {
   "cell_type": "markdown",
   "metadata": {},
   "source": [
    "# 4.HW: Examining mfccs in more detail"
   ]
  },
  {
   "cell_type": "markdown",
   "metadata": {},
   "source": [
    "## Task\n",
    "\n",
    "Using The `Case Study of IH` section of `4_3-examining_mfccs.ipynb` as an example, develop a case study that analyzes the impact of how we generate `MFCC` vectors from raw audio.  \n",
    "\n",
    "### Suggestions\n",
    "\n",
    "- detailed analysis of a particular phone in different context\n",
    "- comparison of phone based on position (*e.g.* `_B` v. `_I` v. `_E` v. `_S`)\n",
    "- comparison of different phones\n",
    " - vowels v. consonants\n",
    " - `stop`s v. `fricative`s (`p`,`b`,`m` v. `f`,`v`,`s`,`z`)\n",
    " - `voiced` v. `voiceless` (`p` v. `b`, `f` v. `v`)\n",
    "- comparison of individual instances of phone v. their average\n",
    "- comparison of particular coefficients (*e.g.* `x` values)\n",
    "- comparison of a different set configurations when building `MFCC`s (this will require some \"logistics\", see below); my recommendation would be to focus on one or more of these arguments: `num-mel-bins`, `--frame-length`, or `--num-ceps`\n",
    " 1. Make a *new* `configuration` file in `conf/`\n",
    " 2. Run `steps/make_mfcc.sh`\n",
    "   - `\"Usage: [options] <data-dir> <log-dir> <path-to-mfccdir>\"\n",
    "   - `steps/make_mfcc.sh --mfcc-config conf/[new_config] data/train_dir exp/make_mfcc_alternative/train mfcc_alternative`\n",
    "   - This will result in your \"new\" `mfcc`s in `mfcc_alternative` and the `log`s for that process in `exp/make_mfcc_alternative` based on the new configuration you built"
   ]
  },
  {
   "cell_type": "markdown",
   "metadata": {},
   "source": [
    "## Procedure\n",
    "\n",
    "  1. Copy this notebook and rename it `4_HW_[your-last-name]-examining_mfccs.ipynb`.  This is **vital** so as not to create `git conflict`s!\n",
    "  2. Add your case study to the section below\n",
    "  3. Save your finished `notebook` as `html`: `File` - `Download As` - `HTML`.\n",
    "  4. Post your `html` file to http://uakaldiinstructional.mybb.us/viewtopic.php?id=4#p4 **BEFORE** our next Friday meeting."
   ]
  },
  {
   "cell_type": "markdown",
   "metadata": {},
   "source": [
    "## Case Study: ???"
   ]
  }
 ],
 "metadata": {
  "kernelspec": {
   "display_name": "Python 2",
   "language": "python",
   "name": "python2"
  },
  "language_info": {
   "codemirror_mode": {
    "name": "ipython",
    "version": 2
   },
   "file_extension": ".py",
   "mimetype": "text/x-python",
   "name": "python",
   "nbconvert_exporter": "python",
   "pygments_lexer": "ipython2",
   "version": "2.7.12"
  }
 },
 "nbformat": 4,
 "nbformat_minor": 2
}
