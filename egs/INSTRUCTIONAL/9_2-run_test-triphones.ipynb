{
 "cells": [
  {
   "cell_type": "markdown",
   "metadata": {},
   "source": [
    "# 9.2: `run_test.sh` - Decoding the `test` set using `triphones` acoustic model\n",
    "\n",
    "This time will use our `triphone` acoustic model for decoding."
   ]
  },
  {
   "cell_type": "markdown",
   "metadata": {},
   "source": [
    "## Setting `kaldi_config.json`\n",
    "\n",
    "Edit the **last** section (`run_test`) of `kaldi_config.json` to use the following arguments:\n",
    " - `graph_dir`=`exp/triphones/graph`  # will use the HCLG from the triphones acoustic model\n",
    " - `data_test_dir`=`data/test_dir`     # location of already-processed (during run_prepare_data.sh) test data\n",
    " - `decode_dir`=`exp/triphones/decode_test_dir`         # location to house all logs and output files\n",
    " - `weight`=`10`         # default value for language modeling weight\n",
    " - `beam`=`6.0`          # default value for beam search \n",
    " - `max_active`=`7000`   # default value for max_active nodes\n",
    " - `save_to`=`exp/experiments/default_experiment_triphones`   # location to save results and predicted transcripts\n",
    " - `non_vanilla_lda_mllt_align_hyperparameters`=`null`"
   ]
  },
  {
   "cell_type": "code",
   "execution_count": null,
   "metadata": {},
   "outputs": [],
   "source": [
    "head -n22 run_test.sh"
   ]
  },
  {
   "cell_type": "markdown",
   "metadata": {},
   "source": [
    "## Running `run_test.sh`\n",
    "\n",
    "Run `run_test.sh`. "
   ]
  },
  {
   "cell_type": "code",
   "execution_count": null,
   "metadata": {},
   "outputs": [],
   "source": [
    "./run_test.sh kaldi_config.json"
   ]
  }
 ],
 "metadata": {
  "kernelspec": {
   "display_name": "Bash",
   "language": "bash",
   "name": "bash"
  },
  "language_info": {
   "codemirror_mode": "shell",
   "file_extension": ".sh",
   "mimetype": "text/x-sh",
   "name": "bash"
  }
 },
 "nbformat": 4,
 "nbformat_minor": 2
}
