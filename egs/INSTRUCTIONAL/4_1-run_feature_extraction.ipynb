{
 "cells": [
  {
   "cell_type": "markdown",
   "metadata": {},
   "source": [
    "# 4.1: `run_feature_extraction.sh` - Generating the acoustic features"
   ]
  },
  {
   "cell_type": "markdown",
   "metadata": {},
   "source": [
    "A common means of converting raw audio to numeric features is to extract `mel-frequency cepstrum coefficients` or `MFCC`s.\n",
    "\n",
    "Below are some resources on extracting these coefficients:\n",
    "\n",
    " - [Wikipedia entry](https://en.wikipedia.org/wiki/Mel-frequency_cepstrum) \n",
    " - feature extraction in [`kaldi` resources](http://kaldi-asr.org/doc/feat.html)\n",
    " - [slides](https://www.inf.ed.ac.uk/teaching/courses/asr/2016-17/asr02-signal-handout.pdf) from the ASR course at the University of Edinburgh\n"
   ]
  },
  {
   "cell_type": "markdown",
   "metadata": {},
   "source": [
    "## `mfcc.conf`"
   ]
  },
  {
   "cell_type": "markdown",
   "metadata": {},
   "source": [
    "`kaldi` often allows for a `configuration` file to be loaded for a script, especially when there are a large number of possible arguments to be set.  This is the case here.\n",
    "\n",
    "We will examine this in more detail in the near future, but for now, there are very brief explanations of each argument in the comments of the file."
   ]
  },
  {
   "cell_type": "code",
   "execution_count": null,
   "metadata": {},
   "outputs": [],
   "source": [
    "cat conf/mfcc_defaults.conf"
   ]
  },
  {
   "cell_type": "markdown",
   "metadata": {},
   "source": [
    "## Setting `kaldi_config.json`"
   ]
  },
  {
   "cell_type": "markdown",
   "metadata": {},
   "source": [
    "Edit the `run_feature_extraction` section of `kaldi_config.json` to contain the proper arguments for `run_feature_extraction.sh` using the `mfcc_defaults.conf` file for now.\n",
    "\n",
    "You can see a brief explanation of the other arguments by inspecting the beginning of `run_feature_extraction.sh`.\n",
    "\n",
    "**Note:** This is the first time parallelization comes into play with `kaldi`.  Without going into any detail, you can set the `num_proc` argument in `kaldi_config` to the number of threads you'd like to use for this process, and `kaldi` will take care of the rest...provided you don't run out of memory.  A good idea is to use 1-2 less threads than the total `CPU`s you have available in the machine."
   ]
  },
  {
   "cell_type": "code",
   "execution_count": null,
   "metadata": {},
   "outputs": [],
   "source": [
    "head -n21 run_feature_extraction.sh"
   ]
  },
  {
   "cell_type": "markdown",
   "metadata": {},
   "source": [
    "## Running `run_feature_extraction.sh`"
   ]
  },
  {
   "cell_type": "code",
   "execution_count": null,
   "metadata": {
    "scrolled": true
   },
   "outputs": [],
   "source": [
    "./run_feature_extraction.sh kaldi_config.json"
   ]
  },
  {
   "cell_type": "markdown",
   "metadata": {},
   "source": [
    "We will inspect the resulting files in the next `notebook`."
   ]
  }
 ],
 "metadata": {
  "kernelspec": {
   "display_name": "Bash",
   "language": "bash",
   "name": "bash"
  },
  "language_info": {
   "codemirror_mode": "shell",
   "file_extension": ".sh",
   "mimetype": "text/x-sh",
   "name": "bash"
  }
 },
 "nbformat": 4,
 "nbformat_minor": 2
}
