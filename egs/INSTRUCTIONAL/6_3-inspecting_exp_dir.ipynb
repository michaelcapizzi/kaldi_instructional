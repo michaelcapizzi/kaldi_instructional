{
 "cells": [
  {
   "cell_type": "markdown",
   "metadata": {},
   "source": [
    "# 6.3: Inspecting the `exp` directories"
   ]
  },
  {
   "cell_type": "markdown",
   "metadata": {},
   "source": [
    "`run_train_phones.sh` will generate a new directory for each layer of the acoustic model in `exp`.  We will inspect their contents below."
   ]
  },
  {
   "cell_type": "code",
   "execution_count": 1,
   "metadata": {},
   "outputs": [
    {
     "name": "stdout",
     "output_type": "stream",
     "text": [
      "\u001b[0m\u001b[01;34mmonophones\u001b[0m          \u001b[01;34mtriphones_aligned\u001b[0m      \u001b[01;34mtriphones_sat\u001b[0m\n",
      "\u001b[01;34mmonophones_aligned\u001b[0m  \u001b[01;34mtriphones_lda\u001b[0m          \u001b[01;34mtriphones_sat_aligned\u001b[0m\n",
      "\u001b[01;34mtriphones\u001b[0m           \u001b[01;34mtriphones_lda_aligned\u001b[0m\n"
     ]
    }
   ],
   "source": [
    "ls exp"
   ]
  },
  {
   "cell_type": "markdown",
   "metadata": {},
   "source": [
    "## `exp/monophones`\n",
    "\n",
    "This directory contains the files generated from the *first* layer of training: `monophones`."
   ]
  },
  {
   "cell_type": "code",
   "execution_count": 2,
   "metadata": {},
   "outputs": [
    {
     "name": "stdout",
     "output_type": "stream",
     "text": [
      "0.mdl     \u001b[0m\u001b[01;31mali.2.gz\u001b[0m   \u001b[01;36mfinal.mdl\u001b[0m   \u001b[01;31mfsts.3.gz\u001b[0m               num_jobs  \u001b[01;35mtree.png\u001b[0m\n",
      "40.mdl    \u001b[01;31mali.3.gz\u001b[0m   \u001b[01;36mfinal.occs\u001b[0m  \u001b[01;31mfsts.4.gz\u001b[0m               tree      tree.ps\n",
      "40.occs   \u001b[01;31mali.4.gz\u001b[0m   \u001b[01;31mfsts.1.gz\u001b[0m   kaldi_config_args.json  tree.dot\n",
      "\u001b[01;31mali.1.gz\u001b[0m  cmvn_opts  \u001b[01;31mfsts.2.gz\u001b[0m   \u001b[01;34mlog\u001b[0m                     \u001b[01;35mtree.jpg\u001b[0m\n"
     ]
    }
   ],
   "source": [
    "ls exp/monophones"
   ]
  },
  {
   "cell_type": "markdown",
   "metadata": {},
   "source": [
    "### `exp/monophones/log`\n",
    "\n",
    "This directory contains all the logs of all the steps run in the process of training `monophones`.  You'll notice that there will be one or more `.[0-9]` postfixes to the log.  The **last** of these will refer to the thread used during parallelization.  The **first** of these will refer to a particular iteration (for those steps that are iterative).  Some of these are more useful than others, but they are **always** useful when an error occurs. "
   ]
  },
  {
   "cell_type": "code",
   "execution_count": 3,
   "metadata": {},
   "outputs": [
    {
     "name": "stdout",
     "output_type": "stream",
     "text": [
      "acc.1.1.log   acc.26.3.log  acc.8.1.log     align.4.3.log\n",
      "acc.1.2.log   acc.26.4.log  acc.8.2.log     align.4.4.log\n",
      "acc.1.3.log   acc.27.1.log  acc.8.3.log     align.5.1.log\n",
      "acc.1.4.log   acc.27.2.log  acc.8.4.log     align.5.2.log\n",
      "acc.10.1.log  acc.27.3.log  acc.9.1.log     align.5.3.log\n",
      "acc.10.2.log  acc.27.4.log  acc.9.2.log     align.5.4.log\n",
      "acc.10.3.log  acc.28.1.log  acc.9.3.log     align.6.1.log\n",
      "acc.10.4.log  acc.28.2.log  acc.9.4.log     align.6.2.log\n",
      "acc.11.1.log  acc.28.3.log  align.0.1.log   align.6.3.log\n",
      "acc.11.2.log  acc.28.4.log  align.0.2.log   align.6.4.log\n",
      "acc.11.3.log  acc.29.1.log  align.0.3.log   align.7.1.log\n",
      "acc.11.4.log  acc.29.2.log  align.0.4.log   align.7.2.log\n",
      "acc.12.1.log  acc.29.3.log  align.1.1.log   align.7.3.log\n",
      "acc.12.2.log  acc.29.4.log  align.1.2.log   align.7.4.log\n",
      "acc.12.3.log  acc.3.1.log   align.1.3.log   align.8.1.log\n",
      "acc.12.4.log  acc.3.2.log   align.1.4.log   align.8.2.log\n",
      "acc.13.1.log  acc.3.3.log   align.10.1.log  align.8.3.log\n",
      "acc.13.2.log  acc.3.4.log   align.10.2.log  align.8.4.log\n",
      "acc.13.3.log  acc.30.1.log  align.10.3.log  align.9.1.log\n",
      "acc.13.4.log  acc.30.2.log  align.10.4.log  align.9.2.log\n",
      "acc.14.1.log  acc.30.3.log  align.12.1.log  align.9.3.log\n",
      "acc.14.2.log  acc.30.4.log  align.12.2.log  align.9.4.log\n",
      "acc.14.3.log  acc.31.1.log  align.12.3.log  analyze_alignments.log\n",
      "acc.14.4.log  acc.31.2.log  align.12.4.log  compile_graphs.1.log\n",
      "acc.15.1.log  acc.31.3.log  align.14.1.log  compile_graphs.2.log\n",
      "acc.15.2.log  acc.31.4.log  align.14.2.log  compile_graphs.3.log\n",
      "acc.15.3.log  acc.32.1.log  align.14.3.log  compile_graphs.4.log\n",
      "acc.15.4.log  acc.32.2.log  align.14.4.log  get_phone_alignments.1.log\n",
      "acc.16.1.log  acc.32.3.log  align.16.1.log  get_phone_alignments.2.log\n",
      "acc.16.2.log  acc.32.4.log  align.16.2.log  get_phone_alignments.3.log\n",
      "acc.16.3.log  acc.33.1.log  align.16.3.log  get_phone_alignments.4.log\n",
      "acc.16.4.log  acc.33.2.log  align.16.4.log  init.log\n",
      "acc.17.1.log  acc.33.3.log  align.18.1.log  update.0.log\n",
      "acc.17.2.log  acc.33.4.log  align.18.2.log  update.1.log\n",
      "acc.17.3.log  acc.34.1.log  align.18.3.log  update.10.log\n",
      "acc.17.4.log  acc.34.2.log  align.18.4.log  update.11.log\n",
      "acc.18.1.log  acc.34.3.log  align.2.1.log   update.12.log\n",
      "acc.18.2.log  acc.34.4.log  align.2.2.log   update.13.log\n",
      "acc.18.3.log  acc.35.1.log  align.2.3.log   update.14.log\n",
      "acc.18.4.log  acc.35.2.log  align.2.4.log   update.15.log\n",
      "acc.19.1.log  acc.35.3.log  align.20.1.log  update.16.log\n",
      "acc.19.2.log  acc.35.4.log  align.20.2.log  update.17.log\n",
      "acc.19.3.log  acc.36.1.log  align.20.3.log  update.18.log\n",
      "acc.19.4.log  acc.36.2.log  align.20.4.log  update.19.log\n",
      "acc.2.1.log   acc.36.3.log  align.23.1.log  update.2.log\n",
      "acc.2.2.log   acc.36.4.log  align.23.2.log  update.20.log\n",
      "acc.2.3.log   acc.37.1.log  align.23.3.log  update.21.log\n",
      "acc.2.4.log   acc.37.2.log  align.23.4.log  update.22.log\n",
      "acc.20.1.log  acc.37.3.log  align.26.1.log  update.23.log\n",
      "acc.20.2.log  acc.37.4.log  align.26.2.log  update.24.log\n",
      "acc.20.3.log  acc.38.1.log  align.26.3.log  update.25.log\n",
      "acc.20.4.log  acc.38.2.log  align.26.4.log  update.26.log\n",
      "acc.21.1.log  acc.38.3.log  align.29.1.log  update.27.log\n",
      "acc.21.2.log  acc.38.4.log  align.29.2.log  update.28.log\n",
      "acc.21.3.log  acc.39.1.log  align.29.3.log  update.29.log\n",
      "acc.21.4.log  acc.39.2.log  align.29.4.log  update.3.log\n",
      "acc.22.1.log  acc.39.3.log  align.3.1.log   update.30.log\n",
      "acc.22.2.log  acc.39.4.log  align.3.2.log   update.31.log\n",
      "acc.22.3.log  acc.4.1.log   align.3.3.log   update.32.log\n",
      "acc.22.4.log  acc.4.2.log   align.3.4.log   update.33.log\n",
      "acc.23.1.log  acc.4.3.log   align.32.1.log  update.34.log\n",
      "acc.23.2.log  acc.4.4.log   align.32.2.log  update.35.log\n",
      "acc.23.3.log  acc.5.1.log   align.32.3.log  update.36.log\n",
      "acc.23.4.log  acc.5.2.log   align.32.4.log  update.37.log\n",
      "acc.24.1.log  acc.5.3.log   align.35.1.log  update.38.log\n",
      "acc.24.2.log  acc.5.4.log   align.35.2.log  update.39.log\n",
      "acc.24.3.log  acc.6.1.log   align.35.3.log  update.4.log\n",
      "acc.24.4.log  acc.6.2.log   align.35.4.log  update.5.log\n",
      "acc.25.1.log  acc.6.3.log   align.38.1.log  update.6.log\n",
      "acc.25.2.log  acc.6.4.log   align.38.2.log  update.7.log\n",
      "acc.25.3.log  acc.7.1.log   align.38.3.log  update.8.log\n",
      "acc.25.4.log  acc.7.2.log   align.38.4.log  update.9.log\n",
      "acc.26.1.log  acc.7.3.log   align.4.1.log\n",
      "acc.26.2.log  acc.7.4.log   align.4.2.log\n"
     ]
    }
   ],
   "source": [
    "ls exp/monophones/log"
   ]
  },
  {
   "cell_type": "markdown",
   "metadata": {},
   "source": [
    "### `num_jobs`\n",
    "\n",
    "There will often be a `num_jobs` file in `kaldi` directories.  This is simply one `integer`, the number of threads used if parallelization was used."
   ]
  },
  {
   "cell_type": "code",
   "execution_count": 4,
   "metadata": {},
   "outputs": [
    {
     "name": "stdout",
     "output_type": "stream",
     "text": [
      "4\n"
     ]
    }
   ],
   "source": [
    "cat exp/monophones/num_jobs"
   ]
  },
  {
   "cell_type": "markdown",
   "metadata": {},
   "source": [
    "### `cmvn_opts`\n",
    "\n",
    "You will often see a file ending in `_opts`.  This is an `options` file that *sometimes* contains hyperparameter settings that will be read by scripts.  They will take the same format as the arguments we can add to our `non_vanilla_*` arguments in `kaldi_config.json`:\n",
    "\n",
    "```\n",
    "--variable_name [variable_value]\n",
    "```\n",
    "\n",
    "In this case, `cmvn_opts` is empty.\n"
   ]
  },
  {
   "cell_type": "code",
   "execution_count": 5,
   "metadata": {},
   "outputs": [
    {
     "name": "stdout",
     "output_type": "stream",
     "text": [
      "\n"
     ]
    }
   ],
   "source": [
    "cat exp/monophones/cmvn_opts"
   ]
  },
  {
   "cell_type": "markdown",
   "metadata": {},
   "source": [
    "### `{40,final}.occs`\n",
    "\n",
    "This file contains the \"per-transition-id occupation counts\" and is \"rarely needed\" (quotes from a post by the main author of `kaldi`).  So we will ignore this file.  \n",
    "\n",
    "In this case, you see a `40_` and a `final_`.  This implies that this information was updated iteratively, and all but the last iteration (in this case, `40_`) were deleted.  `final_` is then a `symbolic link` to the highest valued file left in the directory.  You can see this represented by the `->` in the `ls -lah` command below.\n",
    "\n",
    "**Note:** `kaldi` will utilize this structure often, including below with the `.mdl` files."
   ]
  },
  {
   "cell_type": "code",
   "execution_count": 6,
   "metadata": {},
   "outputs": [
    {
     "name": "stdout",
     "output_type": "stream",
     "text": [
      "-rw-r--r--  1 root root  811 Nov 29 20:12 40.\u001b[01;31m\u001b[Koccs\u001b[m\u001b[K\n",
      "lrwxrwxrwx  1 root root    7 Nov 29 20:12 final.\u001b[01;31m\u001b[Koccs\u001b[m\u001b[K -> 40.\u001b[01;31m\u001b[Koccs\u001b[m\u001b[K\n"
     ]
    }
   ],
   "source": [
    "ls -lah exp/monophones | grep occs"
   ]
  },
  {
   "cell_type": "markdown",
   "metadata": {},
   "source": [
    "### `{40,final}.mdl`\n",
    "\n",
    "The `.mdl` file is the actual acoustic model file for this step.  If we were so inclined, we could use this `.mdl` file as one of the arguments passed to our decoding step.  Each \"layer\" of our acoustic training will generate a `.mdl` file.\n",
    "\n",
    "This file [does ????], and we'll look at these `.mdl` files in more detail in the next notebook.  But they can be converted to \"human-readable\" form using `show-transitions` (as long as you have `source`d `path.sh`)\n"
   ]
  },
  {
   "cell_type": "code",
   "execution_count": 7,
   "metadata": {},
   "outputs": [
    {
     "name": "stdout",
     "output_type": "stream",
     "text": [
      "show-transitions \n",
      "\n",
      "Print debugging info from transition model, in human-readable form\n",
      "Usage:  show-transitions <phones-symbol-table> <transition/model-file> [<occs-file>]\n",
      "e.g.: \n",
      " show-transitions phones.txt 1.mdl 1.occs\n",
      "\n",
      "Standard options:\n",
      "  --config                    : Configuration file to read (this option may be repeated) (string, default = \"\")\n",
      "  --help                      : Print out usage message (bool, default = false)\n",
      "  --print-args                : Print the command line arguments (to stderr) (bool, default = true)\n",
      "  --verbose                   : Verbose level (higher->more logging) (int, default = 0)\n",
      "\n"
     ]
    },
    {
     "ename": "",
     "evalue": "1",
     "output_type": "error",
     "traceback": []
    }
   ],
   "source": [
    ". ${KALDI_INSTRUCTIONAL_PATH}/path.sh\n",
    "show-transitions"
   ]
  },
  {
   "cell_type": "code",
   "execution_count": 8,
   "metadata": {},
   "outputs": [
    {
     "name": "stdout",
     "output_type": "stream",
     "text": [
      "show-transitions data/lang/phones.txt exp/monophones/final.mdl \n",
      "Transition-state 1: phone = SIL hmm-state = 0 pdf = 0\n",
      " Transition-id = 1 p = 0.825838 [self-loop]\n",
      " Transition-id = 2 p = 0.01 [0 -> 1]\n",
      " Transition-id = 3 p = 0.154166 [0 -> 2]\n",
      " Transition-id = 4 p = 0.01 [0 -> 3]\n",
      "Transition-state 2: phone = SIL hmm-state = 1 pdf = 1\n",
      " Transition-id = 5 p = 0.951921 [self-loop]\n",
      " Transition-id = 6 p = 0.01 [1 -> 2]\n",
      " Transition-id = 7 p = 0.01 [1 -> 3]\n",
      " Transition-id = 8 p = 0.0280863 [1 -> 4]\n"
     ]
    }
   ],
   "source": [
    "show-transitions \\\n",
    "    data/lang/phones.txt \\\n",
    "    exp/monophones/final.mdl \\\n",
    "    | head"
   ]
  },
  {
   "cell_type": "markdown",
   "metadata": {},
   "source": [
    "### `fsts.*.gz`\n",
    "\n",
    "These files (one for each parallelized thread) contain the `FST`s representing our training data.  We will look at similar `FST`s used during **test** time at a later date, so for now, we'll ignore these files."
   ]
  },
  {
   "cell_type": "markdown",
   "metadata": {},
   "source": [
    "### `ali.*.gz`\n",
    "\n",
    "These files contain the alignment information mapping each frame to a phone.  You may recall that we used a similar `ali.*.gz` file in `4_3-examining_mfccs.ipynb`.  We can use `ali-to-phones` to convert these aligments into a sequence of phones.  We will look at these alignments in more detail later."
   ]
  },
  {
   "cell_type": "code",
   "execution_count": 9,
   "metadata": {},
   "outputs": [
    {
     "name": "stdout",
     "output_type": "stream",
     "text": [
      "ali-to-phones \n",
      "\n",
      "Convert model-level alignments to phone-sequences (in integer, not text, form)\n",
      "Usage:  ali-to-phones  [options] <model> <alignments-rspecifier> <phone-transcript-wspecifier|ctm-wxfilename>\n",
      "e.g.: \n",
      " ali-to-phones 1.mdl ark:1.ali ark:-\n",
      "or:\n",
      " ali-to-phones --ctm-output 1.mdl ark:1.ali 1.ctm\n",
      "See also: show-alignments lattice-align-phones\n",
      "\n",
      "Options:\n",
      "  --ctm-output                : If true, output the alignments in ctm format (the confidences will be set to 1) (bool, default = false)\n",
      "  --frame-shift               : frame shift used to control the times of the ctm output (float, default = 0.01)\n",
      "  --per-frame                 : If true, write out the frame-level phone alignment (else phone sequence) (bool, default = false)\n",
      "  --write-lengths             : If true, write the #frames for each phone (different format) (bool, default = false)\n",
      "\n",
      "Standard options:\n",
      "  --config                    : Configuration file to read (this option may be repeated) (string, default = \"\")\n",
      "  --help                      : Print out usage message (bool, default = false)\n",
      "  --print-args                : Print the command line arguments (to stderr) (bool, default = true)\n",
      "  --verbose                   : Verbose level (higher->more logging) (int, default = 0)\n",
      "\n"
     ]
    },
    {
     "ename": "",
     "evalue": "1",
     "output_type": "error",
     "traceback": []
    }
   ],
   "source": [
    "ali-to-phones"
   ]
  },
  {
   "cell_type": "markdown",
   "metadata": {},
   "source": [
    "**Note:** Notice that they are `gzipped` (compressed).  So, in order to access the \"actual\" binary file, you'll need to decompress the file, either in a separate, initial step or via a `piped` step.  Below you can see how you can decompress \"on-the-fly\" using `gzip -cd`.\n",
    "\n",
    "**Note:** You'll also notice we're `pip`ing `int2sym.pl` since the output of `fsts-to-transcripts` are indexes.  This will convert those indexes to their appropriate words."
   ]
  },
  {
   "cell_type": "code",
   "execution_count": 10,
   "metadata": {},
   "outputs": [
    {
     "name": "stdout",
     "output_type": "stream",
     "text": [
      "ali-to-phones --per-frame=true exp/monophones/final.mdl 'ark:gzip -cd exp/monophones/ali.1.gz|' 'ark,t:|int2sym.pl -f 2- data/lang/phones.txt' \n",
      "1272-128104-0009 SIL SIL SIL SIL SIL SIL SIL SIL SIL SIL SIL SIL SIL SIL SIL SIL SIL SIL SIL SIL SIL SIL SIL SIL SIL SIL SIL SIL SIL SIL SIL SIL SIL SIL SIL SIL SIL SIL SIL SIL SIL SIL SIL SIL SIL SIL SIL SIL SIL SIL SIL SIL SIL HH_B HH_B HH_B HH_B HH_B HH_B HH_B HH_B HH_B HH_B HH_B HH_B HH_B HH_B HH_B IY1_E IY1_E IY1_E IY1_E IY1_E IY1_E IY1_E L_B L_B L_B L_B L_B L_B L_B L_B L_B L_B L_B L_B AH0_I AH0_I AH0_I AH0_I M_I M_I M_I M_I M_I M_I M_I M_I M_I M_I M_I EH1_I EH1_I EH1_I EH1_I EH1_I N_I N_I N_I N_I N_I N_I T_I T_I T_I S_E S_E S_E S_E S_E S_E S_E S_E S_E S_E S_E M_B M_B M_B M_B M_B M_B M_B M_B M_B M_B M_B OW1_I OW1_I OW1_I OW1_I OW1_I OW1_I OW1_I OW1_I OW1_I OW1_I OW1_I OW1_I OW1_I S_I S_I S_I S_I S_I S_I S_I S_I S_I S_I S_I S_I S_I S_I S_I T_E T_E T_E T_E T_E SIL SIL SIL SIL SIL SIL SIL SIL SIL B_B B_B B_B B_B B_B B_B B_B B_B IH1_I IH1_I IH1_I IH1_I T_I T_I T_I T_I T_I T_I ER0_I ER0_I ER0_I ER0_I ER0_I ER0_I L_I L_I L_I L_I L_I L_I L_I L_I L_I L_I L_I IY0_E IY0_E IY0_E IY0_E IY0_E IY0_E IY0_E IY0_E IY0_E IY0_E IY0_E DH_B DH_B DH_B DH_B DH_B DH_B DH_B DH_B DH_B AH0_E AH0_E AH0_E AH0_E D_B D_B D_B D_B D_B D_B D_B IH0_I IH0_I IH0_I IH0_I V_I V_I V_I V_I V_I V_I V_I V_I V_I V_I V_I AO1_I AO1_I AO1_I AO1_I AO1_I AO1_I AO1_I AO1_I AO1_I AO1_I R_I R_I R_I R_I R_I R_I R_I S_E S_E S_E S_E S_E S_E S_E S_E S_E S_E S_E DH_B DH_B DH_B DH_B DH_B DH_B DH_B DH_B AH0_I AH0_I AH0_I T_E T_E T_E HH_B HH_B HH_B HH_B HH_B AH0_I AH0_I AH0_I AH0_I AH0_I AH0_I AH0_I AH0_I Z_E Z_E Z_E Z_E Z_E Z_E Z_E Z_E Z_E Z_E B_B B_B B_B B_B B_B B_B B_B B_B B_B B_B B_B IH1_I IH1_I IH1_I N_E N_E N_E M_B M_B M_B M_B M_B M_B M_B M_B M_B M_B M_B M_B EY1_I EY1_I EY1_I EY1_I EY1_I EY1_I EY1_I EY1_I EY1_I EY1_I EY1_I EY1_I EY1_I EY1_I EY1_I EY1_I EY1_I EY1_I EY1_I EY1_I D_E D_E D_E D_E B_B B_B B_B B_B B_B B_B B_B B_B B_B IH0_I IH0_I IH0_I T_I T_I T_I T_I T_I T_I T_I T_I T_I T_I T_I T_I T_I W_I W_I W_I W_I IY1_I IY1_I IY1_I IY1_I IY1_I IY1_I IY1_I N_E N_E N_E N_E N_E N_E D_B D_B D_B D_B D_B D_B D_B D_B D_B D_B D_B D_B D_B D_B EH1_I EH1_I EH1_I K_I K_I K_I K_I K_I K_I K_I K_I K_I K_I K_I K_I R_I R_I R_I R_I R_I R_I R_I R_I R_I R_I R_I R_I AH0_I AH0_I AH0_I AH0_I AH0_I AH0_I AH0_I AH0_I AH0_I T_I T_I T_I T_I T_I T_I IH0_I IH0_I IH0_I IH0_I IH0_I V_E V_E V_E V_E V_E V_E AA1_B AA1_B AA1_B AA1_B AA1_B AA1_B AA1_B AA1_B AA1_B AA1_B AA1_B AA1_B AA1_B AA1_B AA1_B AA1_B R_I R_I R_I R_I T_E T_E T_E T_E T_E T_E T_E T_E SIL SIL SIL SIL SIL SIL SIL SIL AH0_B AH0_B AH0_B AH0_B AH0_B N_I N_I N_I N_I N_I N_I N_I N_I N_I N_I N_I N_I N_I N_I N_I N_I N_I N_I N_I N_I N_I N_I N_I N_I N_I N_I D_E D_E D_E D_E D_E D_E D_E SIL SIL SIL SIL SIL SIL SIL SIL SIL SIL SIL SIL SIL SIL SIL SIL SIL SIL SIL SIL SIL SIL SIL SIL SIL SIL SIL SIL SIL SIL SIL SIL SIL SIL SIL SIL SIL SIL SIL SIL SIL SIL SIL SIL SIL SIL SIL SIL SIL SIL SIL SIL SIL SIL SIL SIL SIL SIL SIL SIL SIL SIL SIL SIL SIL SIL SIL SIL W_B W_B W_B W_B W_B W_B W_B W_B W_B W_B AH1_I AH1_I AH1_I T_E T_E T_E W_B W_B W_B W_B W_B W_B W_B W_B W_B W_B IY1_E IY1_E IY1_E IY1_E IY1_E Y_B Y_B Y_B Y_B Y_B Y_B Y_B Y_B Y_B Y_B Y_B Y_B Y_B Y_B Y_B Y_B Y_B Y_B Y_B Y_B Y_B Y_B UW1_I UW1_I UW1_I ZH_I ZH_I ZH_I ZH_I ZH_I ZH_I AH0_I AH0_I AH0_I AH0_I L_I L_I L_I L_I L_I IY0_E IY0_E IY0_E IY0_E IY0_E K_B K_B K_B K_B K_B K_B K_B K_B K_B K_B K_B K_B K_B K_B AO1_I AO1_I AO1_I AO1_I AO1_I AO1_I AO1_I AO1_I AO1_I AO1_I AO1_I AO1_I AO1_I AO1_I AO1_I AO1_I AO1_I AO1_I AO1_I AO1_I L_E L_E L_E L_E P_B P_B P_B P_B P_B P_B P_B P_B P_B P_B P_B P_B P_B IH1_I IH1_I IH1_I IH1_I K_I K_I K_I K_I CH_I CH_I CH_I CH_I CH_I CH_I CH_I CH_I CH_I ER0_I ER0_I ER0_I ER0_I ER0_I ER0_I ER0_I ER0_I ER0_I ER0_I ER0_I ER0_I ER0_I ER0_I ER0_I ER0_I ER0_I ER0_I ER0_I ER0_I ER0_I ER0_I ER0_I ER0_I ER0_I Z_E Z_E Z_E Z_E Z_E Z_E Z_E Z_E Z_E Z_E Z_E Z_E Z_E Z_E Z_E Z_E Z_E Z_E Z_E Z_E Z_E Z_E Z_E Z_E Z_E Z_E SIL SIL SIL SIL SIL SIL SIL SIL SIL SIL SIL SIL SIL SIL SIL SIL SIL SIL SIL SIL SIL SIL SIL SIL SIL SIL SIL SIL SIL SIL SIL SIL SIL SIL SIL SIL SIL SIL SIL SIL SIL SIL SIL SIL SIL SIL SIL SIL SIL SIL SIL SIL SIL SIL SIL SIL SIL SIL SIL SIL SIL SIL SIL SIL SIL SIL M_B M_B M_B M_B M_B M_B M_B EY1_I EY1_I EY1_I EY1_I K_I K_I K_I K_I K_I K_I S_E S_E S_E S_E S_E S_E DH_B DH_B DH_B AH0_E AH0_E AH0_E K_B K_B K_B K_B K_B K_B K_B K_B K_B K_B K_B AH1_I AH1_I AH1_I AH1_I AH1_I S_I S_I S_I S_I T_I T_I T_I T_I T_I T_I T_I T_I T_I T_I AH0_I AH0_I AH0_I AH0_I M_I M_I M_I M_I M_I EH2_I EH2_I EH2_I EH2_I EH2_I EH2_I EH2_I EH2_I EH2_I EH2_I EH2_I EH2_I EH2_I EH2_I EH2_I EH2_I EH2_I EH2_I EH2_I EH2_I EH2_I EH2_I EH2_I EH2_I EH2_I EH2_I EH2_I EH2_I EH2_I EH2_I EH2_I EH2_I EH2_I EH2_I EH2_I EH2_I EH2_I EH2_I R_I R_I R_I IY0_E IY0_E IY0_E AH0_B AH0_B AH0_B AH0_B AH0_B AH0_B AH0_B P_I P_I P_I P_I P_I P_I P_I P_I P_I P_I P_I P_I P_I P_I P_I P_I IY1_I IY1_I IY1_I IY1_I IY1_I IY1_I IY1_I IY1_I IY1_I IY1_I IY1_I IY1_I L_E L_E L_E L_E L_E L_E L_E L_E L_E L_E L_E L_E T_B T_B T_B T_B T_B T_B T_B T_B T_B AH0_E AH0_E AH0_E AH0_E DH_B DH_B DH_B DH_B DH_B AH1_E AH1_E AH1_E AH1_E L_B L_B L_B L_B L_B L_B L_B L_B L_B L_B L_B L_B L_B L_B AO1_I AO1_I AO1_I AO1_I AO1_I AO1_I AO1_I AO1_I AO1_I AO1_I S_I S_I S_I S_I S_I S_I S_I S_I S_I S_I S_I S_I T_E T_E T_E T_E JH_B JH_B JH_B JH_B JH_B JH_B JH_B JH_B JH_B JH_B AH1_I AH1_I AH1_I AH1_I AH1_I JH_I JH_I JH_I JH_I JH_I JH_I JH_I JH_I JH_I JH_I JH_I JH_I JH_I M_I M_I M_I M_I M_I M_I M_I AH0_I AH0_I AH0_I N_I N_I N_I N_I T_E T_E T_E T_E T_E T_E T_E T_E T_E T_E T_E AH0_B AH0_B AH0_B AH0_B AH0_B AH0_B AH0_B N_I N_I N_I N_I D_E D_E D_E D_E D_E R_B R_B R_B R_B R_B R_B R_B IY0_I IY0_I IY0_I IY0_I M_I M_I M_I M_I M_I M_I M_I M_I M_I M_I M_I M_I M_I AY1_I AY1_I AY1_I AY1_I AY1_I AY1_I AY1_I AY1_I AY1_I AY1_I AY1_I AY1_I AY1_I AY1_I AY1_I N_I N_I N_I N_I N_I D_I D_I D_I Z_E Z_E Z_E Z_E Z_E Z_E Z_E Z_E AH1_B AH1_B AH1_B AH1_B AH1_B AH1_B AH1_B AH1_B AH1_B AH1_B AH1_B AH1_B AH1_B S_E S_E S_E S_E S_E S_E S_E S_E S_E S_E S_E S_E S_E S_E SIL SIL SIL SIL SIL DH_B DH_B DH_B DH_B DH_B DH_B DH_B AE1_I AE1_I AE1_I AE1_I AE1_I AE1_I T_E T_E T_E T_E T_E T_E IH0_B IH0_B IH0_B IH0_B IH0_B IH0_B IH0_B IH0_B IH0_B N_E N_E N_E N_E N_E N_E N_E N_E N_E N_E DH_B DH_B DH_B DH_B DH_B AH0_E AH0_E AH0_E AH0_E G_B G_B G_B G_B G_B G_B G_B R_I R_I R_I R_I R_I R_I R_I R_I R_I R_I R_I R_I R_I R_I EY1_I EY1_I EY1_I EY1_I EY1_I EY1_I T_E T_E T_E T_E T_E T_E T_E T_E T_E SIL SIL SIL SIL SIL SIL SIL SIL D_B D_B D_B D_B D_B D_B EY1_I EY1_I EY1_I EY1_I EY1_I EY1_I EY1_I EY1_I EY1_I EY1_I EY1_I EY1_I EY1_I EY1_I EY1_I EY1_I EY1_I EY1_I EY1_I EY1_I EY1_I EY1_I EY1_I EY1_I Z_E Z_E Z_E Z_E Z_E Z_E Z_E AH0_B AH0_B AH0_B AH0_B AH0_B AH0_B V_E V_E V_E V_E SIL SIL SIL SIL SIL SIL SIL SIL SIL SIL AA1_B AA1_B AA1_B AA1_B AA1_B AA1_B AA1_B AA1_B AA1_B AA1_B AA1_B AA1_B AA1_B AA1_B AA1_B AA1_B AA1_B AA1_B R_I R_I R_I R_I R_I R_I T_E T_E T_E T_E T_E T_E T_E T_E T_E T_E T_E T_E T_E T_E T_E T_E T_E T_E M_B M_B M_B M_B M_B M_B M_B AY1_I AY1_I AY1_I AY1_I K_I K_I K_I K_I K_I K_I K_I K_I K_I K_I AH0_I AH0_I AH0_I AH0_I AH0_I L_E L_E L_E L_E L_E L_E L_E L_E L_E L_E L_E L_E L_E L_E AE1_B AE1_B AE1_B AE1_B AE1_B N_I N_I N_I N_I N_I N_I N_I JH_I JH_I JH_I JH_I JH_I JH_I JH_I JH_I AH0_I AH0_I AH0_I L_I L_I L_I L_I L_I L_I L_I L_I L_I L_I L_I L_I L_I L_I L_I L_I L_I L_I L_I L_I L_I L_I L_I L_I L_I L_I OW2_E OW2_E OW2_E OW2_E OW2_E SIL SIL SIL SIL SIL W_B W_B W_B W_B W_B W_B W_B W_B W_B W_B W_B W_B W_B W_B W_B AH0_I AH0_I AH0_I AH0_I Z_E Z_E Z_E Z_E Z_E Z_E Z_E Z_E Z_E Z_E Z_E Z_E Z_E Z_E Z_E DH_B DH_B DH_B IY0_E IY0_E IY0_E IY0_E IY0_E IY0_E IY0_E IY0_E IY0_E IY0_E IY0_E IY0_E IY0_E IY0_E IY0_E IY0_E IY0_E IY0_E IY0_E IY0_E SIL SIL SIL SIL SIL SIL SIL SIL SIL SIL SIL SIL SIL SIL SIL SIL SIL SIL SIL SIL SIL SIL F_B F_B F_B F_B F_B F_B F_B F_B F_B F_B F_B ER1_I ER1_I ER1_I ER1_I ER1_I ER1_I ER1_I N_I N_I N_I N_I IH0_I IH0_I IH0_I IH0_I IH0_I IH0_I IH0_I SH_I SH_I SH_I SH_I SH_I SH_I SH_I SH_I SH_I SH_I SH_I SH_I SH_I SH_I IH0_I IH0_I IH0_I IH0_I NG_E NG_E NG_E NG_E NG_E NG_E NG_E NG_E NG_E NG_E NG_E NG_E NG_E NG_E NG_E NG_E NG_E AH0_B AH0_B AH0_B AH0_B AH0_B AH0_B AH0_B AH0_B AH0_B AH0_B AH0_B AH0_B P_I P_I P_I P_I P_I P_I P_I P_I P_I P_I P_I P_I P_I P_I OW1_I OW1_I OW1_I OW1_I OW1_I L_I L_I L_I L_I L_I S_I S_I S_I S_I S_I S_I S_I S_I S_I S_I T_I T_I T_I ER0_I ER0_I ER0_I ER0_I ER0_I ER0_I ER0_I ER0_I ER0_I ER0_I ER0_I ER0_I ER0_I ER0_I ER0_I ER0_I ER0_I ER0_E ER0_E ER0_E ER0_E ER0_E ER0_E ER0_E ER0_E ER0_E ER0_E ER0_E ER0_E ER0_E SIL SIL SIL SIL SIL SIL SIL SIL SIL SIL SIL SIL SIL SIL SIL SIL SIL SIL SIL SIL SIL SIL SIL SIL SIL SIL SIL SIL SIL SIL SIL SIL SIL SIL SIL SIL SIL SIL SIL SIL SIL SIL SIL SIL SIL SIL SIL SIL \n"
     ]
    },
    {
     "name": "stdout",
     "output_type": "stream",
     "text": [
      "LOG (ali-to-phones[5.2.191~1-48be1]:main():ali-to-phones.cc:134) Done 68 utterances.\n"
     ]
    }
   ],
   "source": [
    "ali-to-phones \\\n",
    "    --per-frame=true \\\n",
    "    exp/monophones/final.mdl \\\n",
    "    \"ark:gzip -cd exp/monophones/ali.1.gz|\" \\\n",
    "    \"ark,t:|int2sym.pl -f 2- data/lang/phones.txt\" \\\n",
    "    | head -n1"
   ]
  },
  {
   "cell_type": "markdown",
   "metadata": {},
   "source": [
    "### `tree`\n",
    "\n",
    "This file is a representation of the decision tree that will be used to cluster the phones.  We will go into much more detail about this later and we will look at a visual representation of this tree generated by `draw-tree`."
   ]
  },
  {
   "cell_type": "code",
   "execution_count": 11,
   "metadata": {},
   "outputs": [
    {
     "name": "stdout",
     "output_type": "stream",
     "text": [
      "draw-tree \n",
      "\n",
      "Outputs a decision tree description in GraphViz format\n",
      "Usage: draw-tree [options] <phone-symbols> <tree>\n",
      "e.g.: draw-tree phones.txt tree | dot -Gsize=8,10.5 -Tps | ps2pdf - tree.pdf\n",
      "\n",
      "Options:\n",
      "  --gen-html                  : generates HTML boilerplate(useful with SVG) (bool, default = false)\n",
      "  --query                     : a query to trace through the tree(format: pdf-class/ctx-phone1/.../ctx-phoneN) (string, default = \"\")\n",
      "  --use-tooltips              : use tooltips instead of labels (bool, default = false)\n",
      "\n",
      "Standard options:\n",
      "  --config                    : Configuration file to read (this option may be repeated) (string, default = \"\")\n",
      "  --help                      : Print out usage message (bool, default = false)\n",
      "  --print-args                : Print the command line arguments (to stderr) (bool, default = true)\n",
      "  --verbose                   : Verbose level (higher->more logging) (int, default = 0)\n",
      "\n"
     ]
    },
    {
     "ename": "",
     "evalue": "255",
     "output_type": "error",
     "traceback": []
    }
   ],
   "source": [
    "draw-tree"
   ]
  },
  {
   "cell_type": "markdown",
   "metadata": {},
   "source": [
    "The command below will save a `.jpg` of the tree to `exp/monphones/tree`, and the next cell will render that `.jpg` using `Markdown` (if you want to see how to render images in `Markdown`, click on the next cell and the `Markdown` command will be revealed).  "
   ]
  },
  {
   "cell_type": "code",
   "execution_count": 1,
   "metadata": {},
   "outputs": [
    {
     "name": "stdout",
     "output_type": "stream",
     "text": [
      "bash: draw-tree: command not found\n",
      "bash: dot: command not found\n"
     ]
    },
    {
     "ename": "",
     "evalue": "127",
     "output_type": "error",
     "traceback": []
    }
   ],
   "source": [
    "draw-tree \\\n",
    "    data/lang/phones.txt \\\n",
    "    exp/monophones/tree \\\n",
    "    | dot -Tpng -Gsize=8,10.5 > exp/monophones/tree.jpg"
   ]
  },
  {
   "cell_type": "markdown",
   "metadata": {},
   "source": [
    "![tree](exp/monophones/tree.jpg)"
   ]
  },
  {
   "cell_type": "markdown",
   "metadata": {},
   "source": [
    "Obviously, it's not to easy to inspect in this form, but you can at least verify that the structure is, in fact, a tree."
   ]
  },
  {
   "cell_type": "markdown",
   "metadata": {},
   "source": [
    "## `exp/monophones_aligned`\n",
    "\n",
    "This directory contains the files generated from the *first* layer of training: `monophones`, but this time the alignment step of the first layer.  There are no new file types in this directory that we didn't already see in `monophones`."
   ]
  },
  {
   "cell_type": "code",
   "execution_count": 34,
   "metadata": {},
   "outputs": [
    {
     "name": "stdout",
     "output_type": "stream",
     "text": [
      "\u001b[0m\u001b[01;31mali.1.gz\u001b[0m  \u001b[01;31mali.3.gz\u001b[0m  cmvn_opts  final.occs              \u001b[01;34mlog\u001b[0m       tree\n",
      "\u001b[01;31mali.2.gz\u001b[0m  \u001b[01;31mali.4.gz\u001b[0m  final.mdl  kaldi_config_args.json  num_jobs\n"
     ]
    }
   ],
   "source": [
    "ls exp/monophones_aligned"
   ]
  },
  {
   "cell_type": "markdown",
   "metadata": {},
   "source": [
    "## `exp/triphones`\n",
    "\n",
    "This directory contains the files generated from the *second* layer of training: `triphones`.  This directory only has two additional file types that were not present in `monophones`: `questions.{int,qst}`."
   ]
  },
  {
   "cell_type": "code",
   "execution_count": 35,
   "metadata": {},
   "outputs": [
    {
     "name": "stdout",
     "output_type": "stream",
     "text": [
      "total 25M\n",
      "drwxr-xr-x  3 root root 4.0K Nov 29 20:31 \u001b[0m\u001b[01;34m.\u001b[0m\n",
      "drwxr-xr-x 10 root root 4.0K Nov 29 21:10 \u001b[01;34m..\u001b[0m\n",
      "-rw-r--r--  1 root root 3.6M Nov 29 20:31 35.mdl\n",
      "-rw-r--r--  1 root root  11K Nov 29 20:31 35.occs\n",
      "-rw-r--r--  1 root root 427K Nov 29 20:31 \u001b[01;31mali.1.gz\u001b[0m\n",
      "-rw-r--r--  1 root root 447K Nov 29 20:31 \u001b[01;31mali.2.gz\u001b[0m\n",
      "-rw-r--r--  1 root root 414K Nov 29 20:31 \u001b[01;31mali.3.gz\u001b[0m\n",
      "-rw-r--r--  1 root root 400K Nov 29 20:31 \u001b[01;31mali.4.gz\u001b[0m\n",
      "-rw-r--r--  1 root root    1 Nov 29 20:25 cmvn_opts\n",
      "lrwxrwxrwx  1 root root    6 Nov 29 20:31 \u001b[01;36mfinal.mdl\u001b[0m -> 35.mdl\n",
      "lrwxrwxrwx  1 root root    7 Nov 29 20:31 \u001b[01;36mfinal.occs\u001b[0m -> 35.occs\n",
      "-rw-r--r--  1 root root 4.7M Nov 29 20:27 \u001b[01;31mfsts.1.gz\u001b[0m\n",
      "-rw-r--r--  1 root root 4.9M Nov 29 20:27 \u001b[01;31mfsts.2.gz\u001b[0m\n",
      "-rw-r--r--  1 root root 4.6M Nov 29 20:27 \u001b[01;31mfsts.3.gz\u001b[0m\n",
      "-rw-r--r--  1 root root 4.5M Nov 29 20:27 \u001b[01;31mfsts.4.gz\u001b[0m\n",
      "-rw-r--r--  1 root root  910 Nov 29 20:31 kaldi_config_args.json\n",
      "drwxr-xr-x  2 root root  12K Nov 29 20:31 \u001b[01;34mlog\u001b[0m\n",
      "-rw-r--r--  1 root root    2 Nov 29 20:25 num_jobs\n",
      "-rw-r--r--  1 root root 8.1K Nov 29 20:25 questions.int\n",
      "-rw-r--r--  1 root root  30K Nov 29 20:25 questions.qst\n",
      "-rw-r--r--  1 root root 493K Nov 29 20:26 tree\n"
     ]
    }
   ],
   "source": [
    "ls -lah exp/triphones"
   ]
  },
  {
   "cell_type": "markdown",
   "metadata": {},
   "source": [
    "### `questions.{int,qst}`\n",
    "\n",
    "These files are a representation of the \"questions\" asked by the `decision tree`.  In other words, these `questions` will represent the phones that we will cluster together.  In the `.int` file below, each line represents a cluster. (The `.qst` file is a `kaldi` `binary` file representing the same thing.)\n",
    "\n",
    "We will look at the *quality* of these clustering decisions later.\n",
    "\n",
    "**Note:** We had to `pipe` the file through `int2sym.pl` because the original file consisted of phone indexes."
   ]
  },
  {
   "cell_type": "code",
   "execution_count": 18,
   "metadata": {},
   "outputs": [
    {
     "name": "stdout",
     "output_type": "stream",
     "text": [
      "SIL SIL_B SIL_E SIL_I SIL_S B_B B_E B_I B_S CH_B CH_E CH_I CH_S D_B D_E D_I D_S F_B F_E F_I F_S HH_B HH_E HH_I HH_S IY2_B IY2_E IY2_I IY2_S JH_B JH_E JH_I JH_S K_B K_E K_I K_S OW0_B OW0_E OW0_I OW0_S P_B P_E P_I P_S S_B S_E S_I S_S SH_B SH_E SH_I SH_S T_B T_E T_I T_S TH_B TH_E TH_I TH_S V_B V_E V_I V_S Z_B Z_E Z_I Z_S \n",
      "AA0_B AA0_E AA0_I AA0_S AA1_B AA1_E AA1_I AA1_S AA2_B AA2_E AA2_I AA2_S AE0_B AE0_E AE0_I AE0_S AE1_B AE1_E AE1_I AE1_S AE2_B AE2_E AE2_I AE2_S AH0_B AH0_E AH0_I AH0_S AH1_B AH1_E AH1_I AH1_S AH2_B AH2_E AH2_I AH2_S AO0_B AO0_E AO0_I AO0_S AO1_B AO1_E AO1_I AO1_S AO2_B AO2_E AO2_I AO2_S AW0_B AW0_E AW0_I AW0_S AW1_B AW1_E AW1_I AW1_S AW2_B AW2_E AW2_I AW2_S AY0_B AY0_E AY0_I AY0_S AY1_B AY1_E AY1_I AY1_S AY2_B AY2_E AY2_I AY2_S DH_B DH_E DH_I DH_S EH0_B EH0_E EH0_I EH0_S EH1_B EH1_E EH1_I EH1_S EH2_B EH2_E EH2_I EH2_S ER0_B ER0_E ER0_I ER0_S ER1_B ER1_E ER1_I ER1_S ER2_B ER2_E ER2_I ER2_S EY0_B EY0_E EY0_I EY0_S EY1_B EY1_E EY1_I EY1_S EY2_B EY2_E EY2_I EY2_S G_B G_E G_I G_S IH0_B IH0_E IH0_I IH0_S IH1_B IH1_E IH1_I IH1_S IH2_B IH2_E IH2_I IH2_S IY0_B IY0_E IY0_I IY0_S IY1_B IY1_E IY1_I IY1_S L_B L_E L_I L_S M_B M_E M_I M_S N_B N_E N_I N_S NG_B NG_E NG_I NG_S OW1_B OW1_E OW1_I OW1_S OW2_B OW2_E OW2_I OW2_S OY0_B OY0_E OY0_I OY0_S OY1_B OY1_E OY1_I OY1_S OY2_B OY2_E OY2_I OY2_S R_B R_E R_I R_S UH0_B UH0_E UH0_I UH0_S UH1_B UH1_E UH1_I UH1_S UH2_B UH2_E UH2_I UH2_S UW0_B UW0_E UW0_I UW0_S UW1_B UW1_E UW1_I UW1_S UW2_B UW2_E UW2_I UW2_S W_B W_E W_I W_S Y_B Y_E Y_I Y_S ZH_B ZH_E ZH_I ZH_S \n",
      "B_B B_E B_I B_S CH_B CH_E CH_I CH_S D_B D_E D_I D_S F_B F_E F_I F_S HH_B HH_E HH_I HH_S IY2_B IY2_E IY2_I IY2_S JH_B JH_E JH_I JH_S K_B K_E K_I K_S OW0_B OW0_E OW0_I OW0_S P_B P_E P_I P_S S_B S_E S_I S_S SH_B SH_E SH_I SH_S T_B T_E T_I T_S TH_B TH_E TH_I TH_S V_B V_E V_I V_S Z_B Z_E Z_I Z_S \n"
     ]
    }
   ],
   "source": [
    "cat exp/triphones/questions.int | int2sym.pl -f 1- data/lang/phones.txt | head -n3"
   ]
  },
  {
   "cell_type": "markdown",
   "metadata": {},
   "source": [
    "## `exp/triphones_aligned`\n",
    "\n",
    "As was the case with `monophones_aligned`, this directory contains the files generated from the alignment step of the `triphones` layer of our model.  There are no new file types in this directory that we didn't already see in `triphones`."
   ]
  },
  {
   "cell_type": "code",
   "execution_count": 30,
   "metadata": {},
   "outputs": [
    {
     "name": "stdout",
     "output_type": "stream",
     "text": [
      "\u001b[0m\u001b[01;31mali.1.gz\u001b[0m  \u001b[01;31mali.3.gz\u001b[0m  cmvn_opts  final.occs              \u001b[01;34mlog\u001b[0m       tree\n",
      "\u001b[01;31mali.2.gz\u001b[0m  \u001b[01;31mali.4.gz\u001b[0m  final.mdl  kaldi_config_args.json  num_jobs\n"
     ]
    }
   ],
   "source": [
    "ls exp/triphones_aligned"
   ]
  },
  {
   "cell_type": "markdown",
   "metadata": {},
   "source": [
    "## `exp/triphones_lda`\n",
    "\n",
    "This directory contains the files generated from the *third* layer of training: `LDA_MLLT` over `triphones`."
   ]
  },
  {
   "cell_type": "code",
   "execution_count": 32,
   "metadata": {},
   "outputs": [
    {
     "name": "stdout",
     "output_type": "stream",
     "text": [
      "total 30M\n",
      "drwxr-xr-x  3 root root 4.0K Nov 29 20:51 \u001b[0m\u001b[01;34m.\u001b[0m\n",
      "drwxr-xr-x 10 root root 4.0K Nov 29 21:10 \u001b[01;34m..\u001b[0m\n",
      "-rw-r--r--  1 root root  19K Nov 29 20:43 0.mat\n",
      "-rw-r--r--  1 root root  19K Nov 29 20:47 12.mat\n",
      "-rw-r--r--  1 root root 6.3K Nov 29 20:47 12.mat.new\n",
      "-rw-r--r--  1 root root  19K Nov 29 20:45 2.mat\n",
      "-rw-r--r--  1 root root 6.3K Nov 29 20:45 2.mat.new\n",
      "-rw-r--r--  1 root root 7.1M Nov 29 20:51 35.mdl\n",
      "-rw-r--r--  1 root root  16K Nov 29 20:51 35.occs\n",
      "-rw-r--r--  1 root root  19K Nov 29 20:46 4.mat\n",
      "-rw-r--r--  1 root root 6.3K Nov 29 20:46 4.mat.new\n",
      "-rw-r--r--  1 root root  19K Nov 29 20:46 6.mat\n",
      "-rw-r--r--  1 root root 6.3K Nov 29 20:46 6.mat.new\n",
      "-rw-r--r--  1 root root 460K Nov 29 20:50 \u001b[01;31mali.1.gz\u001b[0m\n",
      "-rw-r--r--  1 root root 480K Nov 29 20:50 \u001b[01;31mali.2.gz\u001b[0m\n",
      "-rw-r--r--  1 root root 445K Nov 29 20:50 \u001b[01;31mali.3.gz\u001b[0m\n",
      "-rw-r--r--  1 root root 430K Nov 29 20:50 \u001b[01;31mali.4.gz\u001b[0m\n",
      "-rw-r--r--  1 root root    1 Nov 29 20:43 cmvn_opts\n",
      "lrwxrwxrwx  1 root root    6 Nov 29 20:51 \u001b[01;36mfinal.mat\u001b[0m -> 12.mat\n",
      "lrwxrwxrwx  1 root root    6 Nov 29 20:51 \u001b[01;36mfinal.mdl\u001b[0m -> 35.mdl\n",
      "lrwxrwxrwx  1 root root    7 Nov 29 20:51 \u001b[01;36mfinal.occs\u001b[0m -> 35.occs\n",
      "-rw-r--r--  1 root root 4.9M Nov 29 20:45 \u001b[01;31mfsts.1.gz\u001b[0m\n",
      "-rw-r--r--  1 root root 5.1M Nov 29 20:45 \u001b[01;31mfsts.2.gz\u001b[0m\n",
      "-rw-r--r--  1 root root 4.8M Nov 29 20:45 \u001b[01;31mfsts.3.gz\u001b[0m\n",
      "-rw-r--r--  1 root root 4.7M Nov 29 20:45 \u001b[01;31mfsts.4.gz\u001b[0m\n",
      "-rw-r--r--  1 root root  54K Nov 29 20:43 full.mat\n",
      "-rw-r--r--  1 root root  912 Nov 29 20:51 kaldi_config_args.json\n",
      "drwxr-xr-x  2 root root  12K Nov 29 20:51 \u001b[01;34mlog\u001b[0m\n",
      "-rw-r--r--  1 root root    2 Nov 29 20:43 num_jobs\n",
      "-rw-r--r--  1 root root 8.2K Nov 29 20:43 questions.int\n",
      "-rw-r--r--  1 root root  30K Nov 29 20:43 questions.qst\n",
      "-rw-r--r--  1 root root    1 Nov 29 20:43 splice_opts\n",
      "-rw-r--r--  1 root root 753K Nov 29 20:45 tree\n"
     ]
    }
   ],
   "source": [
    "ls -lah exp/triphones_lda"
   ]
  },
  {
   "cell_type": "markdown",
   "metadata": {},
   "source": [
    "### `*.mat`\n",
    "\n",
    "The only file type we haven't seen before is `.mat`, which is short for `matrix`.  These files simply represent the `matrix` required to perform the `LDA` operation on our existing data.  And, like we have already seen, the `final.mat` is a symbolic link to the largest-indexed `.mat` file (in this case `12.mat`)."
   ]
  },
  {
   "cell_type": "markdown",
   "metadata": {},
   "source": [
    "We can use `copy-matrix` with the `--binary=false` flag to convert this `kaldi` `binary` into text form."
   ]
  },
  {
   "cell_type": "code",
   "execution_count": 41,
   "metadata": {},
   "outputs": [
    {
     "name": "stdout",
     "output_type": "stream",
     "text": [
      "copy-matrix \n",
      "\n",
      "Copy matrices, or archives of matrices (e.g. features or transforms)\n",
      "Also see copy-feats which has other format options\n",
      "\n",
      "Usage: copy-matrix [options] <matrix-in-rspecifier> <matrix-out-wspecifier>\n",
      "  or: copy-matrix [options] <matrix-in-rxfilename> <matrix-out-wxfilename>\n",
      " e.g.: copy-matrix --binary=false 1.mat -\n",
      "   copy-matrix ark:2.trans ark,t:-\n",
      "See also: copy-feats\n",
      "\n",
      "Options:\n",
      "  --apply-exp                 : This option can be used to apply exp on the matrices (bool, default = false)\n",
      "  --apply-log                 : This option can be used to apply log on the matrices. Must be avoided if matrix has negative quantities. (bool, default = false)\n",
      "  --apply-power               : This option can be used to apply a power on the matrices (float, default = 1)\n",
      "  --apply-softmax-per-row     : This option can be used to apply softmax per row of the matrices (bool, default = false)\n",
      "  --binary                    : Write in binary mode (only relevant if output is a wxfilename) (bool, default = true)\n",
      "  --scale                     : This option can be used to scale the matrices being copied. (float, default = 1)\n",
      "\n",
      "Standard options:\n",
      "  --config                    : Configuration file to read (this option may be repeated) (string, default = \"\")\n",
      "  --help                      : Print out usage message (bool, default = false)\n",
      "  --print-args                : Print the command line arguments (to stderr) (bool, default = true)\n",
      "  --verbose                   : Verbose level (higher->more logging) (int, default = 0)\n",
      "\n"
     ]
    },
    {
     "ename": "",
     "evalue": "1",
     "output_type": "error",
     "traceback": []
    }
   ],
   "source": [
    "copy-matrix"
   ]
  },
  {
   "cell_type": "code",
   "execution_count": 47,
   "metadata": {},
   "outputs": [
    {
     "name": "stdout",
     "output_type": "stream",
     "text": [
      "copy-matrix --binary=false exp/triphones_lda/final.mat '| head -n3' \n",
      " [\n",
      "  0.07149278 0.008385221 -0.01232026 -7.043179e-05 -0.002204495 0.005338904 0.002215973 0.003546142 0.0005242043 -0.0009295529 -0.001774614 -0.0007837248 0.000380595 -0.0144319 0.002918942 -0.003731522 -0.000601034 -0.002036393 0.0014272 0.002937004 0.002266583 -7.352007e-05 0.001647709 -0.0002968625 0.0003556351 -0.0001980344 0.05281531 0.009069759 -0.008264982 -0.002705297 -0.001498894 0.001901628 0.001680963 0.002671708 0.0006718803 0.001273278 -0.0006866669 -0.0006726775 -0.0002037716 0.04388294 0.01003785 -0.008299275 -0.003537703 -0.001521669 0.0003429263 0.002231088 0.002696633 0.0008015841 0.001603368 0.001965621 0.0002240839 -0.0002978679 0.09146843 0.01477116 -0.0123357 -0.003690582 -0.00179056 -0.0007164379 0.001799415 0.001465623 0.002091999 0.002410769 0.001265119 0.0002804297 -0.0003286418 0.03134751 0.009644954 -0.009132599 -0.001378151 -0.001029731 -0.0003904275 0.001487889 0.001683231 0.001501346 0.002233736 0.002987489 0.0008410763 -0.0007531727 0.05357805 0.009202129 -0.007001709 -0.003269308 -0.00278689 -0.001576161 0.001517418 0.0003052253 0.0006027187 0.001895611 0.0005241665 0.0006900465 0.0005879159 0.03220107 0.005193126 -0.004835403 -0.002032655 -0.002414618 -0.0006804329 0.001027578 0.001313286 0.001090043 0.001153504 0.002309754 0.0008213293 -0.0002320141 0.0329015 0.00641934 -0.002547131 -0.005176557 -0.005995143 -0.001632192 0.002408336 0.002537668 0.002372289 0.001907067 0.001745387 -0.0007221911 -0.0008033455 \n",
      "  -0.02207362 -0.006865808 -0.007686411 -0.007508024 -0.0001790779 0.001160686 0.0007011885 0.001762858 0.003989446 -5.050584e-05 0.002369797 -0.0008294349 -0.0006515122 -0.01817465 0.002228607 -0.004655745 -0.0007380494 -0.001493609 0.0003975513 0.001470598 0.001263731 0.002133557 -0.0002138542 0.0009629394 0.0001258569 -0.0002177703 -0.03628282 -0.002693987 -0.007507374 -0.003140467 -0.00154504 0.002502422 0.002743452 0.001160651 0.0007493321 7.153494e-05 0.001648209 -4.664489e-05 -0.001827479 -0.03873904 -0.004970888 -0.006428212 -0.00512466 0.0005637351 0.001544921 0.002672027 -0.0005835418 -0.0004386193 0.002025452 0.0007886727 -0.001202879 -0.001031038 -0.04979799 -0.01056162 -0.008319464 -0.003398263 0.003541295 0.001479484 0.002173145 0.0006742434 0.0005176504 0.00322548 -0.0009688861 -0.0008527127 0.0002443269 -0.04567934 -0.007371787 -0.00351608 -0.002288985 0.002934348 -0.0006097523 0.002262563 0.001941907 0.001949422 0.001105397 -0.0001029332 -0.0003806688 -0.0002115963 -0.06496047 -0.00468934 -0.008688515 -0.004494284 -0.003423288 0.0001847403 0.00126954 0.003025825 0.001215699 0.001656964 0.0009206431 -0.001176857 5.1914e-05 -0.0460111 -0.002859569 -0.008302191 -0.006819604 -0.005095865 3.847176e-05 0.001370355 0.002313892 0.002046589 0.003158657 -0.0007614619 -0.0009138637 -0.001481247 -0.1020855 -0.003761124 -0.0123633 -0.01181851 -0.007096053 -0.001510068 0.00276242 0.002108115 0.007266468 0.00481198 0.003115139 9.519845e-05 0.0008330893 \n",
      "LOG (copy-matrix[5.2.191~1-48be1]:main():copy-matrix.cc:112) Copied matrix to | head -n3\n"
     ]
    }
   ],
   "source": [
    "copy-matrix \\\n",
    "    --binary=false \\\n",
    "    exp/triphones_lda/final.mat \\\n",
    "    \"| head -n3\""
   ]
  },
  {
   "cell_type": "markdown",
   "metadata": {},
   "source": [
    "This is not very helpful to us, but we can make sure the matrix dimensions match up with our expectations using `matrix-dim`."
   ]
  },
  {
   "cell_type": "code",
   "execution_count": 42,
   "metadata": {},
   "outputs": [
    {
     "name": "stdout",
     "output_type": "stream",
     "text": [
      "matrix-dim \n",
      "\n",
      "Print dimension info on an input matrix (rows then cols, separated by tab), to\n",
      "standard output.  Output for single filename: rows[tab]cols.  Output per line for\n",
      "archive of files: key[tab]rows[tab]cols\n",
      "Usage: matrix-dim [options] <matrix-in>|<in-rspecifier>\n",
      "e.g.: matrix-dim final.mat | cut -f 2\n",
      "See also: feat-to-len, feat-to-dim\n",
      "\n",
      "Standard options:\n",
      "  --config                    : Configuration file to read (this option may be repeated) (string, default = \"\")\n",
      "  --help                      : Print out usage message (bool, default = false)\n",
      "  --print-args                : Print the command line arguments (to stderr) (bool, default = true)\n",
      "  --verbose                   : Verbose level (higher->more logging) (int, default = 0)\n",
      "\n"
     ]
    },
    {
     "ename": "",
     "evalue": "1",
     "output_type": "error",
     "traceback": []
    }
   ],
   "source": [
    "matrix-dim"
   ]
  },
  {
   "cell_type": "code",
   "execution_count": 43,
   "metadata": {},
   "outputs": [
    {
     "name": "stdout",
     "output_type": "stream",
     "text": [
      "matrix-dim exp/triphones_lda/final.mat \n",
      "40\t117\n"
     ]
    }
   ],
   "source": [
    "matrix-dim exp/triphones_lda/final.mat"
   ]
  },
  {
   "cell_type": "markdown",
   "metadata": {},
   "source": [
    "## `exp/triphones_lda_aligned`\n",
    "\n",
    "As was the case with the other `*_aligned` directories, this directory contains the files generated from the alignment step of the `LDA` layer of our model.  There is only one new file type we haven't seen before: `trans.*`"
   ]
  },
  {
   "cell_type": "code",
   "execution_count": 48,
   "metadata": {},
   "outputs": [
    {
     "name": "stdout",
     "output_type": "stream",
     "text": [
      "\u001b[0m\u001b[01;31mali.1.gz\u001b[0m  cmvn_opts   \u001b[01;31mfsts.1.gz\u001b[0m  full.mat                splice_opts  trans.4\n",
      "\u001b[01;31mali.2.gz\u001b[0m  final.mat   \u001b[01;31mfsts.2.gz\u001b[0m  kaldi_config_args.json  trans.1      tree\n",
      "\u001b[01;31mali.3.gz\u001b[0m  final.mdl   \u001b[01;31mfsts.3.gz\u001b[0m  \u001b[01;34mlog\u001b[0m                     trans.2\n",
      "\u001b[01;31mali.4.gz\u001b[0m  final.occs  \u001b[01;31mfsts.4.gz\u001b[0m  num_jobs                trans.3\n"
     ]
    }
   ],
   "source": [
    "ls exp/triphones_lda_aligned"
   ]
  }
 ],
 "metadata": {
  "kernelspec": {
   "display_name": "Bash",
   "language": "bash",
   "name": "bash"
  },
  "language_info": {
   "codemirror_mode": "shell",
   "file_extension": ".sh",
   "mimetype": "text/x-sh",
   "name": "bash"
  }
 },
 "nbformat": 4,
 "nbformat_minor": 2
}
