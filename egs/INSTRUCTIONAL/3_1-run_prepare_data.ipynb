{
 "cells": [
  {
   "cell_type": "markdown",
   "metadata": {},
   "source": [
    "# 3.1: `run_prepare_data.sh` - Building the `data` directory"
   ]
  },
  {
   "cell_type": "markdown",
   "metadata": {},
   "source": [
    "## Setting `kaldi_config.json`"
   ]
  },
  {
   "cell_type": "markdown",
   "metadata": {},
   "source": [
    "Edit the **first** section of `kaldi_config.json` to contain the proper arguments for `run_prepare_data.sh` using the following files:\n",
    " - using the `dev-clean` as the `train` subset\n",
    " - using the `test-clean` as the `test` subset\n",
    " - using the `3-gram.pruned.3e-7.arpa` language model\n",
    " \n",
    "**Note:** This configuration is **not** the \"best\", but one of the fastest to prepare.\n",
    "\n",
    "You can see a brief explanation of the other arguments by inspecting the beginning of `run_prepare_data.sh`.\n",
    "\n",
    "**ATMOSPHERE USERS:** You will need to use a `terminal` and `vim` to do this.  The other, less efficient, method, is to locally edit the file and then `scp` it to your `instance`."
   ]
  },
  {
   "cell_type": "code",
   "execution_count": null,
   "metadata": {},
   "outputs": [],
   "source": [
    "head -n30 run_prepare_data.sh"
   ]
  },
  {
   "cell_type": "markdown",
   "metadata": {},
   "source": [
    "## Running `run_prepare_data.sh`"
   ]
  },
  {
   "cell_type": "markdown",
   "metadata": {},
   "source": [
    "Run `run_prepare_data.sh`.  Carefully read through the output to ensure that there were no errors.\n",
    "\n",
    "**Note:** If you are *rerunning* this step, make sure to have deleted the entire `data` (`rm -r data/`) directory beforehand."
   ]
  },
  {
   "cell_type": "code",
   "execution_count": null,
   "metadata": {},
   "outputs": [],
   "source": [
    "./run_prepare_data.sh kaldi_config.json"
   ]
  },
  {
   "cell_type": "markdown",
   "metadata": {},
   "source": [
    "We will inspect the resulting files in the next `notebook`."
   ]
  }
 ],
 "metadata": {
  "kernelspec": {
   "display_name": "Bash",
   "language": "bash",
   "name": "bash"
  },
  "language_info": {
   "codemirror_mode": "shell",
   "file_extension": ".sh",
   "mimetype": "text/x-sh",
   "name": "bash"
  }
 },
 "nbformat": 4,
 "nbformat_minor": 2
}
