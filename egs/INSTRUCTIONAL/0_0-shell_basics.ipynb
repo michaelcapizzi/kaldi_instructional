{
 "cells": [
  {
   "cell_type": "code",
   "execution_count": null,
   "metadata": {},
   "outputs": [],
   "source": [
    "cd ${KALDI_INSTRUCTIONAL_PATH} && pwd"
   ]
  },
  {
   "cell_type": "markdown",
   "metadata": {},
   "source": [
    "# 0.0: `shell` Basics"
   ]
  },
  {
   "cell_type": "markdown",
   "metadata": {},
   "source": [
    "`kaldi` is written in `C++` and then wrapped, primarily in `shell`.  You will *not* be required to modify the `C++` code, but there will be an expectation that you can \"handle yourself\" in `shell`.\n",
    "\n",
    "Here's a good overall `shell` resource: http://www.tldp.org/LDP/Bash-Beginners-Guide/html/index.html"
   ]
  },
  {
   "cell_type": "markdown",
   "metadata": {},
   "source": [
    "Below is a very quick run through the commands that will be used most often:\n",
    " - `echo`\n",
    " - `pwd`\n",
    " - `cd`\n",
    " - `ls`\n",
    " - `mkdir`\n",
    " - `cp`\n",
    " - `mv`\n",
    " - `cat`/`more`\n",
    " - `head`/`tail`\n",
    " - `grep`\n",
    " - `|`\n",
    " - variables\n",
    " - `for` loop\n",
    " - `if`/`then`\n",
    " - `chmod`\n",
    " - `sudo`"
   ]
  },
  {
   "cell_type": "markdown",
   "metadata": {},
   "source": [
    "## `echo`: print"
   ]
  },
  {
   "cell_type": "code",
   "execution_count": null,
   "metadata": {},
   "outputs": [],
   "source": [
    "echo \"Hello world\""
   ]
  },
  {
   "cell_type": "markdown",
   "metadata": {},
   "source": [
    "## `pwd`: print name of current/working directory\n",
    "`pwd` will print out your current (or working) directory"
   ]
  },
  {
   "cell_type": "code",
   "execution_count": null,
   "metadata": {},
   "outputs": [],
   "source": [
    "pwd"
   ]
  },
  {
   "cell_type": "markdown",
   "metadata": {},
   "source": [
    "## `cd`: change directory\n",
    "`cd` changes your location.  If you give it no argument, it changes your working directory to `/root`; otherwise, it changes your working directory to the argument provided."
   ]
  },
  {
   "cell_type": "code",
   "execution_count": null,
   "metadata": {},
   "outputs": [],
   "source": [
    "cd && pwd    # && can be put between two commands to do them consecutively"
   ]
  },
  {
   "cell_type": "code",
   "execution_count": null,
   "metadata": {},
   "outputs": [],
   "source": [
    "cd /scratch/kaldi/egs/INSTRUCTIONAL && pwd"
   ]
  },
  {
   "cell_type": "markdown",
   "metadata": {},
   "source": [
    "To move *up* a nested directory tree, you can use `..`.  For example, `cd ..` will change the working directory to `/home/kaldi/egs/` whereas `cd ../..` will change the working directory to `/home/kaldi`.  \n",
    "\n",
    "You can also use a combination of `..` and a path to move *up* and then *back down* another branch."
   ]
  },
  {
   "cell_type": "code",
   "execution_count": null,
   "metadata": {},
   "outputs": [],
   "source": [
    "cd ../mini_librispeech && pwd"
   ]
  },
  {
   "cell_type": "markdown",
   "metadata": {},
   "source": [
    "## `ls`: list directory contents\n",
    "`ls` lists directory contents.  If you give it no argument, it lists the contents of current directory; otherwise it lists the contents of the argument provided."
   ]
  },
  {
   "cell_type": "code",
   "execution_count": null,
   "metadata": {},
   "outputs": [],
   "source": [
    "pwd && ls"
   ]
  },
  {
   "cell_type": "code",
   "execution_count": null,
   "metadata": {},
   "outputs": [],
   "source": [
    "ls ../mini_librispeech/s5"
   ]
  },
  {
   "cell_type": "markdown",
   "metadata": {},
   "source": [
    "Some useful `flag`s to add to `ls` are `-lah`.  \n",
    " - `-l` shows the permissions, size, and last edit date/time for each file\n",
    " - `-a` shows any hidden directories or files (starting with a `.`)\n",
    " - `-h` converts the file sizes to an easier-to-read form"
   ]
  },
  {
   "cell_type": "code",
   "execution_count": null,
   "metadata": {},
   "outputs": [],
   "source": [
    "ls -lah"
   ]
  },
  {
   "cell_type": "markdown",
   "metadata": {},
   "source": [
    "## `mkdir`: make a new directory\n",
    "`mkdir` build make a new directory (folder).  It's safest to use the `-p` flag, as well, as that will automatically build any intermediate directories that don't exist."
   ]
  },
  {
   "cell_type": "code",
   "execution_count": null,
   "metadata": {},
   "outputs": [],
   "source": [
    "mkdir -p empty_folder_1/empty_folder_2"
   ]
  },
  {
   "cell_type": "code",
   "execution_count": null,
   "metadata": {},
   "outputs": [],
   "source": [
    "ls empty_folder_1"
   ]
  },
  {
   "cell_type": "code",
   "execution_count": null,
   "metadata": {},
   "outputs": [],
   "source": [
    "ls empty_folder_1/empty_folder_2"
   ]
  },
  {
   "cell_type": "markdown",
   "metadata": {},
   "source": [
    "## `cp`: copy files/directories\n",
    "`cp` will copy files and, with the `-r` flag, directories.  It takes two arguments, the first is the thing to copy and the second is the location to copy it to."
   ]
  },
  {
   "cell_type": "code",
   "execution_count": null,
   "metadata": {},
   "outputs": [],
   "source": [
    "cd ${KALDI_INSTRUCTIONAL_PATH} && ls"
   ]
  },
  {
   "cell_type": "code",
   "execution_count": null,
   "metadata": {},
   "outputs": [],
   "source": [
    "cp ../../README.md README_copy.txt && ls"
   ]
  },
  {
   "cell_type": "markdown",
   "metadata": {},
   "source": [
    "In order to copy a directory, use the `-r` flag (for `recursive`)"
   ]
  },
  {
   "cell_type": "code",
   "execution_count": null,
   "metadata": {},
   "outputs": [],
   "source": [
    "cp -r resource_files resource_files_copy && ls resource_files_copy"
   ]
  },
  {
   "cell_type": "markdown",
   "metadata": {},
   "source": [
    "## `mv`: move files/directories\n",
    "`mv` will move a file or directory from one location to a new location.  It takes two argumeents, the first is the thing to move and the second is the location to move it to."
   ]
  },
  {
   "cell_type": "code",
   "execution_count": null,
   "metadata": {},
   "outputs": [],
   "source": [
    "ls"
   ]
  },
  {
   "cell_type": "code",
   "execution_count": null,
   "metadata": {},
   "outputs": [],
   "source": [
    "mv README_copy.txt ../ && ls .."
   ]
  },
  {
   "cell_type": "markdown",
   "metadata": {},
   "source": [
    "You can move a directory with the same argument structure."
   ]
  },
  {
   "cell_type": "code",
   "execution_count": null,
   "metadata": {},
   "outputs": [],
   "source": [
    "ls"
   ]
  },
  {
   "cell_type": "code",
   "execution_count": null,
   "metadata": {},
   "outputs": [],
   "source": [
    "mv resource_files_copy .. && ls .."
   ]
  },
  {
   "cell_type": "markdown",
   "metadata": {},
   "source": [
    "You can also use `mv` to *rename* a file (in other words, you change its name but *don't* move it anywhere)"
   ]
  },
  {
   "cell_type": "code",
   "execution_count": null,
   "metadata": {},
   "outputs": [],
   "source": [
    "ls .."
   ]
  },
  {
   "cell_type": "code",
   "execution_count": null,
   "metadata": {},
   "outputs": [],
   "source": [
    "mv ../README_copy.txt ../README_copy_renamed.txt && ls .."
   ]
  },
  {
   "cell_type": "markdown",
   "metadata": {},
   "source": [
    "## `cat`: print the contents of a file to the command line\n",
    "\n",
    "`cat` will print a file to the command line. "
   ]
  },
  {
   "cell_type": "code",
   "execution_count": null,
   "metadata": {},
   "outputs": [],
   "source": [
    "cat ../README_copy_renamed.txt"
   ]
  },
  {
   "cell_type": "markdown",
   "metadata": {},
   "source": [
    "## `head`/`tail`: print the `top` (or `bottom`) `n` lines of a file\n",
    "\n",
    "`head` will print the top 10 lines of a file (`tail` will print the bottom 10 lines).  Using the `-n` flag you can specify how many lines to show."
   ]
  },
  {
   "cell_type": "code",
   "execution_count": null,
   "metadata": {},
   "outputs": [],
   "source": [
    "head ../README_copy_renamed.txt"
   ]
  },
  {
   "cell_type": "code",
   "execution_count": null,
   "metadata": {},
   "outputs": [],
   "source": [
    "head -n2 ../README_copy_renamed.txt && tail -n5 ../README_copy_renamed.txt"
   ]
  },
  {
   "cell_type": "markdown",
   "metadata": {},
   "source": [
    "## `grep`: find lines matching a pattern\n",
    "`grep` searches for a matching string pattern."
   ]
  },
  {
   "cell_type": "markdown",
   "metadata": {},
   "source": [
    "`grep` can search for any matching lines in a file of text."
   ]
  },
  {
   "cell_type": "code",
   "execution_count": null,
   "metadata": {},
   "outputs": [],
   "source": [
    "cat ../README_copy_renamed.txt"
   ]
  },
  {
   "cell_type": "code",
   "execution_count": null,
   "metadata": {},
   "outputs": [],
   "source": [
    "grep \"simplified\" ../README_copy_renamed.txt"
   ]
  },
  {
   "cell_type": "markdown",
   "metadata": {},
   "source": [
    "With the `-E` flag, you can have `grep` search for a `regular expression` pattern"
   ]
  },
  {
   "cell_type": "code",
   "execution_count": null,
   "metadata": {},
   "outputs": [],
   "source": [
    "grep -E \"[0-9]+\" kaldi_config.json"
   ]
  },
  {
   "cell_type": "markdown",
   "metadata": {},
   "source": [
    "Note: Of course `grep` can do a lot more.  See some of it [here](https://www.panix.com/~elflord/unix/grep.html)"
   ]
  },
  {
   "cell_type": "markdown",
   "metadata": {},
   "source": [
    "## `|`: piping commands\n",
    "\n",
    "Putting the `|` between two commands will take the output from the first command and send it as input to the second command.  \n",
    "\n",
    "**Note:** `kaldi` uses an *inordinate amount* of `pipe`s; you'll see them everywhere!"
   ]
  },
  {
   "cell_type": "code",
   "execution_count": null,
   "metadata": {},
   "outputs": [],
   "source": [
    "ls"
   ]
  },
  {
   "cell_type": "code",
   "execution_count": null,
   "metadata": {},
   "outputs": [],
   "source": [
    "ls | grep \"ipynb\""
   ]
  },
  {
   "cell_type": "code",
   "execution_count": null,
   "metadata": {},
   "outputs": [],
   "source": [
    "cat ../README_copy_renamed.txt | grep \"simplified\""
   ]
  },
  {
   "cell_type": "markdown",
   "metadata": {},
   "source": [
    "## `variables`\n",
    "\n",
    "Set a `variable` with the following syntax:\n",
    "\n",
    "```\n",
    "variable_name=\"string or number to capture\"\n",
    "```\n",
    "\n",
    "Then recover it with `$`.  `echo` will print the contents of the `variable`."
   ]
  },
  {
   "cell_type": "code",
   "execution_count": null,
   "metadata": {},
   "outputs": [],
   "source": [
    "some_variable=\"I love cats.\"\n",
    "echo ${some_variable}        # many people think {} wrapped around variables is a useful convention for clarity"
   ]
  },
  {
   "cell_type": "markdown",
   "metadata": {},
   "source": [
    "## `for` loop\n",
    "\n",
    "The syntax for a `for` loop is:\n",
    "\n",
    "```\n",
    "for [variable] in [list]; do\n",
    "    [some_command]\n",
    "done\n",
    "```"
   ]
  },
  {
   "cell_type": "code",
   "execution_count": null,
   "metadata": {},
   "outputs": [],
   "source": [
    "for letter in a b c; do\n",
    "    echo ${letter}        \n",
    "done"
   ]
  },
  {
   "cell_type": "markdown",
   "metadata": {},
   "source": [
    "## `if`/`then`"
   ]
  },
  {
   "cell_type": "markdown",
   "metadata": {},
   "source": [
    "The basic usage for `if`/`then` statments is:\n",
    "\n",
    "```\n",
    "if [ <condition> ]; then\n",
    "    some_command\n",
    "fi\n",
    "```\n",
    "\n",
    "It can get a bit more complicated depending on the `condition`.  [Here](https://ryanstutorials.net/bash-scripting-tutorial/bash-if-statements.php) is a good tutorial for `if`/`then` statements."
   ]
  },
  {
   "cell_type": "code",
   "execution_count": null,
   "metadata": {},
   "outputs": [],
   "source": [
    "today=Tuesday\n",
    "if [ ${today} == \"Tuesday\" ]; then\n",
    "    echo \"At least it's not Monday\"\n",
    "fi"
   ]
  },
  {
   "cell_type": "markdown",
   "metadata": {},
   "source": [
    "You can easily add `elif` and `else` conditions."
   ]
  },
  {
   "cell_type": "code",
   "execution_count": null,
   "metadata": {},
   "outputs": [],
   "source": [
    "if [ ${today} == \"Monday\" ]; then\n",
    "    echo \"I hate Mondays\"\n",
    "elif [ ${today} == \"Friday\" ]; then\n",
    "    echo \"TGIF!  Woot!\"\n",
    "else\n",
    "    echo \"Can't wait for Friday\"\n",
    "fi"
   ]
  },
  {
   "cell_type": "markdown",
   "metadata": {},
   "source": [
    "## `chmod`: change permissions of file\n",
    "\n",
    "`chmod` changes the permissions of a file.  `chmod` gets very sophisticated (see [here](http://endlessgeek.com/2014/02/chmod-explained-linux-file-permissions/) for details), but in our case, we will only need to use if to ensure that a `shell` script (`.sh`) is executable.\n",
    "\n",
    "This can be done with `chmod a+rwx [file_name]`"
   ]
  },
  {
   "cell_type": "code",
   "execution_count": null,
   "metadata": {},
   "outputs": [],
   "source": [
    "echo \"I love cats\" > sample_executable.sh   # make a quick script"
   ]
  },
  {
   "cell_type": "markdown",
   "metadata": {},
   "source": [
    "You can see here that the default permissions for this file are `read` only."
   ]
  },
  {
   "cell_type": "code",
   "execution_count": null,
   "metadata": {},
   "outputs": [],
   "source": [
    "ls -lah | grep sample_executable.sh"
   ]
  },
  {
   "cell_type": "markdown",
   "metadata": {},
   "source": [
    "We can update those permissions with `chmod a+rwx`"
   ]
  },
  {
   "cell_type": "code",
   "execution_count": null,
   "metadata": {},
   "outputs": [],
   "source": [
    "chmod a+rwx sample_executable.sh && ls -lah | grep sample_executable.sh"
   ]
  },
  {
   "cell_type": "markdown",
   "metadata": {},
   "source": [
    "## `sudo`: become the super-user\n",
    "\n",
    "Without going into `sudo` (see [here](http://aplawrence.com/Basics/sudo.html) if you want to know about it), if you get an error saying `permission denied` (or any flavor of that), it's likely that you need to put `sudo` before the command (and may be asked to enter your password).  Unfortunately, this may come up at times when using `kaldi`."
   ]
  }
 ],
 "metadata": {
  "kernelspec": {
   "display_name": "Bash",
   "language": "bash",
   "name": "bash"
  },
  "language_info": {
   "codemirror_mode": "shell",
   "file_extension": ".sh",
   "mimetype": "text/x-sh",
   "name": "bash"
  }
 },
 "nbformat": 4,
 "nbformat_minor": 2
}
