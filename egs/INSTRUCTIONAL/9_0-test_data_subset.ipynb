{
 "cells": [
  {
   "cell_type": "markdown",
   "metadata": {},
   "source": [
    "# 9.0: Taking a subset of `test_dir`\n",
    "\n",
    "Decoding the entire `test_dir` (~2300 audio samples) takes too long for our purposes here.  So this notebook will take a subset of that directory so that the next few notebooks go faster."
   ]
  },
  {
   "cell_type": "markdown",
   "metadata": {},
   "source": [
    "## Take a subset of data\n",
    "\n",
    "We will take the **first** `n` samples from the `test_dir`.  This number is set below, but you can adjust it, but beware: this **will change** your results."
   ]
  },
  {
   "cell_type": "code",
   "execution_count": 1,
   "metadata": {},
   "outputs": [],
   "source": [
    "n=250"
   ]
  },
  {
   "cell_type": "markdown",
   "metadata": {},
   "source": [
    "There is a script called `split_data` in `utils` that splits up data for the purposes of parallelization.  It uses the `utt2spk` file as its frame of reference.  So we will be taking a subset of that file."
   ]
  },
  {
   "cell_type": "code",
   "execution_count": 2,
   "metadata": {},
   "outputs": [
    {
     "name": "stdout",
     "output_type": "stream",
     "text": [
      "total 1.2M\n",
      "drwxr-xr-x 2 root root 4.0K Mar  2 17:10 \u001b[0m\u001b[01;34m.\u001b[0m\n",
      "drwxr-xr-x 8 root root 4.0K Mar  2 16:31 \u001b[01;34m..\u001b[0m\n",
      "-rw-r--r-- 1 root root 202K Mar  2 16:31 cmvn.scp\n",
      "-rw-r--r-- 1 root root 220K Mar  2 16:31 feats.scp\n",
      "-rw-r--r-- 1 root root  82K Mar  2 16:31 spk2utt\n",
      "-rw-r--r-- 1 root root 319K Mar  2 16:31 text\n",
      "-rw-r--r-- 1 root root  82K Mar  2 16:31 utt2spk\n",
      "-rw-r--r-- 1 root root 274K Mar  2 16:31 wav.scp\n"
     ]
    }
   ],
   "source": [
    "ls -lah data/test_dir"
   ]
  },
  {
   "cell_type": "markdown",
   "metadata": {},
   "source": [
    "The commands below will:\n",
    "  1. copy the **original** `utt2spk` to `utt2spk.bak` (for \"backup\")\n",
    "  2. resaving `utt2spk` as a subset of the original"
   ]
  },
  {
   "cell_type": "code",
   "execution_count": 3,
   "metadata": {},
   "outputs": [],
   "source": [
    "cp data/test_dir/utt2spk data/test_dir/utt2spk.bak"
   ]
  },
  {
   "cell_type": "code",
   "execution_count": 4,
   "metadata": {},
   "outputs": [],
   "source": [
    "head -n${n} data/test_dir/utt2spk.bak > data/test_dir/utt2spk"
   ]
  },
  {
   "cell_type": "markdown",
   "metadata": {},
   "source": [
    "We can make sure it worked by counting the number of lines in `utt2spk`."
   ]
  },
  {
   "cell_type": "code",
   "execution_count": 5,
   "metadata": {},
   "outputs": [
    {
     "name": "stdout",
     "output_type": "stream",
     "text": [
      "250\n"
     ]
    }
   ],
   "source": [
    "cat data/test_dir/utt2spk | wc -l"
   ]
  },
  {
   "cell_type": "markdown",
   "metadata": {},
   "source": [
    "**Note**: We only need to do this **once**, and the subset will be used for **all** of the `run_test` calls we will make in later notebooks."
   ]
  }
 ],
 "metadata": {
  "kernelspec": {
   "display_name": "Bash",
   "language": "bash",
   "name": "bash"
  },
  "language_info": {
   "codemirror_mode": "shell",
   "file_extension": ".sh",
   "mimetype": "text/x-sh",
   "name": "bash"
  }
 },
 "nbformat": 4,
 "nbformat_minor": 2
}
