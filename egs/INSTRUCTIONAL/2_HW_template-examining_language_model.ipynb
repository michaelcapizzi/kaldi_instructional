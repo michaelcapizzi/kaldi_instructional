{
 "cells": [
  {
   "cell_type": "markdown",
   "metadata": {},
   "source": [
    "# 2.HW: Examining language models in more detail"
   ]
  },
  {
   "cell_type": "markdown",
   "metadata": {},
   "source": [
    "## Task\n",
    "\n",
    "Using The `Comparing probabilities` section of `2_2-examining_language_model.ipynb` as an example, develop a case study that analyzes some aspect of language modeling.  This analysis can be done on our toy animal corpus **or** one of the `librispeech` language models.\n",
    "\n",
    "### Suggestions\n",
    "\n",
    "- impact of `4-gram` v. `3-gram` v. `2-gram`\n",
    "- impact of `start` and `stop` symbols\n",
    "- impact of `pruning` (would require analysis to be done on the `librispeech` language models as `pruning` isn't practical on our toy language models)\n"
   ]
  },
  {
   "cell_type": "markdown",
   "metadata": {},
   "source": [
    "## Procedure\n",
    "\n",
    "  1. Copy this notebook and rename it `2_HW_[your-last-name]-examining_language_model.ipynb`.  This is **vital** so as not to create `git conflict`s!\n",
    "  2. Add your case study to the section below\n",
    "  3. Save your finished `notebook` as `html`: `File` - `Download As` - `HTML`.\n",
    "  4. Post your `html` file to http://uakaldiinstructional.mybb.us/viewtopic.php?id=3#p3 **BEFORE** our next Friday meeting."
   ]
  },
  {
   "cell_type": "markdown",
   "metadata": {},
   "source": [
    "## Case Study: ???"
   ]
  }
 ],
 "metadata": {
  "kernelspec": {
   "display_name": "Python 2",
   "language": "python",
   "name": "python2"
  },
  "language_info": {
   "codemirror_mode": {
    "name": "ipython",
    "version": 2
   },
   "file_extension": ".py",
   "mimetype": "text/x-python",
   "name": "python",
   "nbconvert_exporter": "python",
   "pygments_lexer": "ipython2",
   "version": "2.7.12"
  }
 },
 "nbformat": 4,
 "nbformat_minor": 2
}
