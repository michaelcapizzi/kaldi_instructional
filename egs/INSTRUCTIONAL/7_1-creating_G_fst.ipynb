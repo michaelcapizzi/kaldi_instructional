{
 "cells": [
  {
   "cell_type": "markdown",
   "metadata": {},
   "source": [
    "# 7.1: Creating `G.fst`"
   ]
  },
  {
   "cell_type": "markdown",
   "metadata": {},
   "source": [
    "Decoding in `kaldi` (when we actually predict what words we \"heard\") is simply a traversal through a large graph that represents most of our learned model.  We will go into this in much more detail later, but for now, we will focus on converting our language model into an `FST`.\n",
    "\n",
    "There is a great [blog post](https://williamhartmann.wordpress.com/2014/02/02/converting-a-language-model-to-a-finite-state-transducer/) that explains this process."
   ]
  },
  {
   "cell_type": "markdown",
   "metadata": {},
   "source": [
    "We need to `source` `path.sh` so that we can call `C++` functions without full paths."
   ]
  },
  {
   "cell_type": "code",
   "execution_count": null,
   "metadata": {},
   "outputs": [],
   "source": [
    ". path.sh"
   ]
  },
  {
   "cell_type": "markdown",
   "metadata": {},
   "source": [
    "And we'll use the aptly-named `arpa2fst` to convert our `ARPA`-formatted language model into an `FST`."
   ]
  },
  {
   "cell_type": "code",
   "execution_count": null,
   "metadata": {},
   "outputs": [],
   "source": [
    "arpa2fst"
   ]
  },
  {
   "cell_type": "code",
   "execution_count": null,
   "metadata": {},
   "outputs": [],
   "source": [
    "arpa2fst resource_files/language_model/animal_lm-2_gram.arpa resource_files/fst/animal_fst-2_gram.fst"
   ]
  },
  {
   "cell_type": "markdown",
   "metadata": {},
   "source": [
    "`kaldi` will use [`openFST`](http://www.openfst.org/twiki/bin/view/FST/WebHome) for some steps of this process in addition to some \"homemade\" functions (like `arpa2fst`).  We will use a `python` wrapper for `openFST` to inspect this `FST` in more detail in the next notebook.  But for now, we can confirm the building of the `FST` and get some of its properties by using the `openFST` function `fstinfo` \n",
    "\n",
    "**Note:** Because we `sourc`ed `path.sh` above, we can also call `openFST` functions without full paths."
   ]
  },
  {
   "cell_type": "code",
   "execution_count": null,
   "metadata": {},
   "outputs": [],
   "source": [
    "fstinfo --help"
   ]
  },
  {
   "cell_type": "markdown",
   "metadata": {},
   "source": [
    "We'll put the resulting `FST` in a new directory, `resource_files/fst`."
   ]
  },
  {
   "cell_type": "code",
   "execution_count": null,
   "metadata": {},
   "outputs": [],
   "source": [
    "fstinfo resource_files/fst/animal_fst-2_gram.fst"
   ]
  },
  {
   "cell_type": "markdown",
   "metadata": {},
   "source": [
    "In the next notebook, we'll examine this `FST` in more detail."
   ]
  }
 ],
 "metadata": {
  "kernelspec": {
   "display_name": "Bash",
   "language": "bash",
   "name": "bash"
  },
  "language_info": {
   "codemirror_mode": "shell",
   "file_extension": ".sh",
   "mimetype": "text/x-sh",
   "name": "bash"
  }
 },
 "nbformat": 4,
 "nbformat_minor": 2
}
